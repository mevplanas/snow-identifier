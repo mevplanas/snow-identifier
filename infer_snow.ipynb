{
 "cells": [
  {
   "cell_type": "code",
   "execution_count": 1,
   "metadata": {},
   "outputs": [],
   "source": [
    "# Loading the cv libraries \n",
    "import cv2\n",
    "import os \n",
    "import numpy as np\n",
    "import matplotlib.pyplot as plt\n",
    "from tqdm import tqdm "
   ]
  },
  {
   "cell_type": "markdown",
   "metadata": {},
   "source": [
    "# Example pipeline for snow detection"
   ]
  },
  {
   "cell_type": "code",
   "execution_count": 2,
   "metadata": {},
   "outputs": [
    {
     "name": "stderr",
     "output_type": "stream",
     "text": [
      "100%|██████████| 1000/1000 [00:36<00:00, 27.44it/s]\n"
     ]
    }
   ],
   "source": [
    "# Defining the video path \n",
    "video_dir = 'videos'\n",
    "video_to_use = 'DJI_0212.MP4'\n",
    "path_to_video = os.path.join(video_dir, video_to_use)\n",
    "\n",
    "# Defining the path to the images dir where the video will be split\n",
    "images_dir = 'images'\n",
    "images_dir_video = os.path.join(images_dir, video_to_use.split('.')[0])\n",
    "\n",
    "# Creating the images dir if it does not exist\n",
    "if not os.path.exists(images_dir):\n",
    "    os.mkdir(images_dir)\n",
    "if not os.path.exists(images_dir_video):\n",
    "    os.mkdir(images_dir_video)\n",
    "\n",
    "# Opening the video\n",
    "cap = cv2.VideoCapture(path_to_video)\n",
    "\n",
    "# Getting the total number of frames\n",
    "total_frames = int(cap.get(cv2.CAP_PROP_FRAME_COUNT))\n",
    "\n",
    "# Getting the frame rate\n",
    "fps = cap.get(cv2.CAP_PROP_FPS)\n",
    "\n",
    "# Getting the frame size\n",
    "frame_width = int(cap.get(cv2.CAP_PROP_FRAME_WIDTH))\n",
    "\n",
    "# Getting the frame height\n",
    "frame_height = int(cap.get(cv2.CAP_PROP_FRAME_HEIGHT))\n",
    "\n",
    "# Defining the top frames to use \n",
    "top_frames = 1000\n",
    "\n",
    "# Deleting the images dir if it exists\n",
    "if os.path.exists(images_dir_video):\n",
    "    for file in os.listdir(images_dir_video):\n",
    "        os.remove(os.path.join(images_dir_video, file))\n",
    "\n",
    "# Spliting the video into frames\n",
    "for i in tqdm(range(top_frames)):\n",
    "    ret, frame = cap.read()\n",
    "    if ret:\n",
    "        cv2.imwrite(os.path.join(images_dir_video, f'{i}.jpg'), frame)\n",
    "    else:\n",
    "        break"
   ]
  },
  {
   "cell_type": "code",
   "execution_count": 3,
   "metadata": {},
   "outputs": [],
   "source": [
    "# Defining the buffer of pixels to crop around the center \n",
    "buffer = 10"
   ]
  },
  {
   "cell_type": "markdown",
   "metadata": {},
   "source": [
    "# Running all the images in the images dir"
   ]
  },
  {
   "cell_type": "code",
   "execution_count": 4,
   "metadata": {},
   "outputs": [
    {
     "name": "stderr",
     "output_type": "stream",
     "text": [
      "100%|██████████| 1000/1000 [03:44<00:00,  4.46it/s]\n"
     ]
    }
   ],
   "source": [
    "# Creating the output dir \n",
    "cropped_image_dir = 'cropped_images'\n",
    "if not os.path.exists(cropped_image_dir):\n",
    "    os.makedirs(cropped_image_dir)\n",
    "\n",
    "cropped_image_dir_video = os.path.join(cropped_image_dir, video_to_use.split('.')[0])\n",
    "if not os.path.exists(cropped_image_dir_video):\n",
    "    os.makedirs(cropped_image_dir_video)\n",
    "\n",
    "# Removing the images in the cropped image dir if it exists\n",
    "if os.path.exists(cropped_image_dir_video):\n",
    "    for file in os.listdir(cropped_image_dir_video):\n",
    "        os.remove(os.path.join(cropped_image_dir_video, file))\n",
    "\n",
    "# Defining the function that returns the color for a given gray value\n",
    "def get_color(gray_value):\n",
    "    if gray_value < 100:\n",
    "        return 'green'\n",
    "    else:\n",
    "        return 'red'\n",
    "\n",
    "# Sorting the images \n",
    "images_names = os.listdir(images_dir_video)\n",
    "images_names.sort(key=lambda x: int(x.split('.')[0]))\n",
    "\n",
    "# Iterating over the images in the images dir and cropping them \n",
    "for image_name in tqdm(images_names):\n",
    "    # Saving the path to the image \n",
    "    image_path = os.path.join(images_dir_video, image_name)\n",
    "    \n",
    "    # Loading the image in the RGB format\n",
    "    image = cv2.cvtColor(cv2.imread(image_path), cv2.COLOR_BGR2RGB)\n",
    "\n",
    "    # Extracting the center point\n",
    "    h_center, w_center = int(image.shape[0]/2), int(image.shape[1]/2)\n",
    "    \n",
    "    # Calculating the top left and bottom right coordinates\n",
    "    top_left = (w_center - buffer, h_center - buffer)\n",
    "    bottom_right = (w_center + buffer, h_center + buffer)\n",
    "    \n",
    "    # Cropping the image\n",
    "    cropped_image = image[top_left[1]:bottom_right[1], top_left[0]:bottom_right[0]]\n",
    "    \n",
    "    # Calculating the mean of the cropped image\n",
    "    gray_value = cropped_image.mean()\n",
    "\n",
    "    # Saving the cropped image\n",
    "    cropped_image_path = os.path.join(cropped_image_dir_video, image_name)\n",
    "\n",
    "    # Creating a fig object with two axes: \n",
    "    # On the left there will be the original image with the rectangle\n",
    "    # On the right there will be the cropped image with the mean gray value\n",
    "    fig, axes = plt.subplots(1, 2, figsize=(10, 5))\n",
    "    fig.suptitle(image_name)\n",
    "\n",
    "    # Ploting the original image with the rectangle\n",
    "    axes[0].imshow(image)\n",
    "    axes[0].set_title('Original image')\n",
    "    axes[0].axis('off')\n",
    "    axes[0].add_patch(plt.Rectangle(top_left, bottom_right[0] - top_left[0], bottom_right[1] - top_left[1], fill=False, color=get_color(gray_value)))\n",
    "\n",
    "    # Ploting the cropped image with the mean gray value\n",
    "    axes[1].imshow(cropped_image, cmap='gray')\n",
    "    axes[1].set_title('Mean gray value: {}'.format(round(gray_value, 2)))\n",
    "\n",
    "    # Saving the ploted image\n",
    "    plt.savefig(cropped_image_path)\n",
    "\n",
    "    # Closing the fig object to free up memory\n",
    "    plt.close(fig)"
   ]
  },
  {
   "cell_type": "markdown",
   "metadata": {},
   "source": [
    "# Making a video "
   ]
  },
  {
   "cell_type": "code",
   "execution_count": 5,
   "metadata": {},
   "outputs": [
    {
     "name": "stderr",
     "output_type": "stream",
     "text": [
      "  0%|          | 0/1000 [00:00<?, ?it/s]"
     ]
    },
    {
     "name": "stderr",
     "output_type": "stream",
     "text": [
      "100%|██████████| 1000/1000 [00:08<00:00, 118.69it/s]\n"
     ]
    }
   ],
   "source": [
    "# Listing all the cropped images for the current dir \n",
    "cropped_images = os.listdir(cropped_image_dir_video)\n",
    "\n",
    "# Sorting the images by name\n",
    "cropped_images.sort(key=lambda x: int(x.split('.')[0]))\n",
    "\n",
    "# Creating a video writer object\n",
    "fourcc = cv2.VideoWriter_fourcc(*'DIVX')\n",
    "\n",
    "# Creating the output_videos dir \n",
    "output_videos_dir = 'output_videos'\n",
    "if not os.path.exists(output_videos_dir):\n",
    "    os.mkdir(output_videos_dir)\n",
    "\n",
    "# Defining the path to the specific output video\n",
    "output_video_path = os.path.join(output_videos_dir, video_to_use)\n",
    "\n",
    "# Reading the first image to get the size\n",
    "first_image_path = os.path.join(cropped_image_dir_video, cropped_images[0])\n",
    "\n",
    "# Reading the first image\n",
    "first_image = cv2.imread(first_image_path)\n",
    "\n",
    "# Getting the size of the first image\n",
    "size = (first_image.shape[1], first_image.shape[0])\n",
    "\n",
    "fps = 24\n",
    "\n",
    "# Creating the video writer object\n",
    "out = cv2.VideoWriter(output_video_path, fourcc, fps, size)\n",
    "\n",
    "# Iterating over the cropped images and writing them to the video\n",
    "for cropped_image in tqdm(cropped_images):\n",
    "    # Reading the image\n",
    "    image_path = os.path.join(cropped_image_dir_video, cropped_image)\n",
    "    image = cv2.imread(image_path)\n",
    "\n",
    "    # Writing the image to the video\n",
    "    out.write(image)\n",
    "\n",
    "cv2.destroyAllWindows()\n",
    "\n",
    "# Closing the video writer\n",
    "out.release()"
   ]
  },
  {
   "cell_type": "code",
   "execution_count": null,
   "metadata": {},
   "outputs": [],
   "source": []
  }
 ],
 "metadata": {
  "kernelspec": {
   "display_name": "vasa-env-wt",
   "language": "python",
   "name": "python3"
  },
  "language_info": {
   "codemirror_mode": {
    "name": "ipython",
    "version": 3
   },
   "file_extension": ".py",
   "mimetype": "text/x-python",
   "name": "python",
   "nbconvert_exporter": "python",
   "pygments_lexer": "ipython3",
   "version": "3.9.13"
  },
  "orig_nbformat": 4
 },
 "nbformat": 4,
 "nbformat_minor": 2
}
