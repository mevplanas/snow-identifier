{
 "cells": [
  {
   "cell_type": "code",
   "execution_count": null,
   "metadata": {},
   "outputs": [],
   "source": [
    "# Loading the cv libraries \n",
    "import cv2\n",
    "import os \n",
    "import numpy as np\n",
    "import matplotlib.pyplot as plt\n",
    "from tqdm import tqdm "
   ]
  },
  {
   "cell_type": "markdown",
   "metadata": {},
   "source": [
    "# Example pipeline for snow detection"
   ]
  },
  {
   "cell_type": "code",
   "execution_count": null,
   "metadata": {},
   "outputs": [],
   "source": [
    "# Listing the images in the images dir \n",
    "images_dir = 'images'\n",
    "images = os.listdir(images_dir)\n",
    "\n",
    "# Saving the path to the first image \n",
    "image_path = os.path.join(images_dir, images[0])\n",
    "\n",
    "# Ploting the image\n",
    "image = cv2.imread(image_path)\n",
    "plt.imshow(image)"
   ]
  },
  {
   "cell_type": "code",
   "execution_count": null,
   "metadata": {},
   "outputs": [],
   "source": [
    "# We extract the center point from the image \n",
    "h_center, w_center = int(image.shape[0]/2), int(image.shape[1]/2)\n",
    "print(w_center, h_center)\n",
    "\n",
    "# Defining the buffer of pixels to crop around the center \n",
    "buffer = 100\n",
    "\n",
    "# Calculating the top left and bottom right coordinates\n",
    "top_left = (w_center - buffer, h_center - buffer)\n",
    "bottom_right = (w_center + buffer, h_center + buffer)\n",
    "\n",
    "# Cropping the image\n",
    "cropped_image = image[top_left[1]:bottom_right[1], top_left[0]:bottom_right[0]]\n",
    "\n",
    "# Ploting the extracted rectangle on the original image \n",
    "image_with_rect = image.copy()\n",
    "cv2.rectangle(image_with_rect, top_left, bottom_right, (0,0,255), 10)\n",
    "plt.imshow(image_with_rect)"
   ]
  },
  {
   "cell_type": "code",
   "execution_count": null,
   "metadata": {},
   "outputs": [],
   "source": [
    "#Ploting the cropped image\n",
    "plt.imshow(cropped_image)"
   ]
  },
  {
   "cell_type": "code",
   "execution_count": null,
   "metadata": {},
   "outputs": [],
   "source": [
    "# Making the image gray\n",
    "gray_image = cv2.cvtColor(cropped_image, cv2.COLOR_BGR2GRAY)\n",
    "\n",
    "# Calculating the mean of the gray image\n",
    "gray_value = gray_image.mean()\n",
    "\n",
    "# The closer the mean is to 255, the brighter the image is;\n",
    "# The closer the mean is to 0, the darker the image is\n",
    "print(gray_value)\n",
    "\n",
    "# Ploting the gray image along with the mean gray value \n",
    "plt.imshow(gray_image, cmap='gray')\n",
    "plt.title('Mean gray value: {}'.format(round(gray_value, 2)))"
   ]
  },
  {
   "cell_type": "markdown",
   "metadata": {},
   "source": [
    "# Running all the images in the images dir"
   ]
  },
  {
   "cell_type": "code",
   "execution_count": null,
   "metadata": {},
   "outputs": [],
   "source": [
    "# Creating the output dir \n",
    "cropped_image_dir = 'cropped_images'\n",
    "if not os.path.exists(cropped_image_dir):\n",
    "    os.makedirs(cropped_image_dir)\n",
    "\n",
    "# Iterating over the images in the images dir and cropping them \n",
    "for image_name in tqdm(images):\n",
    "    # Saving the path to the image \n",
    "    image_path = os.path.join(images_dir, image_name)\n",
    "    \n",
    "    # Loading the image\n",
    "    image = cv2.imread(image_path)\n",
    "    \n",
    "    # Extracting the center point\n",
    "    h_center, w_center = int(image.shape[0]/2), int(image.shape[1]/2)\n",
    "    \n",
    "    # Defining the buffer of pixels to crop around the center \n",
    "    buffer = 100\n",
    "    \n",
    "    # Calculating the top left and bottom right coordinates\n",
    "    top_left = (w_center - buffer, h_center - buffer)\n",
    "    bottom_right = (w_center + buffer, h_center + buffer)\n",
    "    \n",
    "    # Cropping the image\n",
    "    cropped_image = image[top_left[1]:bottom_right[1], top_left[0]:bottom_right[0]]\n",
    "    \n",
    "    # Calculating the mean of the cropped image\n",
    "    gray_value = cropped_image.mean()\n",
    "\n",
    "    # Saving the cropped image\n",
    "    cropped_image_path = os.path.join(cropped_image_dir, image_name)\n",
    "\n",
    "    # Creating a fig object with two axes: \n",
    "    # On the left there will be the original image with the rectangle\n",
    "    # On the right there will be the cropped image with the mean gray value\n",
    "    fig, axes = plt.subplots(1, 2, figsize=(10, 5))\n",
    "    fig.suptitle(image_name)\n",
    "\n",
    "    # Ploting the original image with the rectangle\n",
    "    axes[0].imshow(image)\n",
    "    axes[0].set_title('Original image')\n",
    "    axes[0].axis('off')\n",
    "    axes[0].add_patch(plt.Rectangle(top_left, bottom_right[0] - top_left[0], bottom_right[1] - top_left[1], fill=False, color='red'))\n",
    "\n",
    "    # Ploting the cropped image with the mean gray value\n",
    "    axes[1].imshow(cropped_image, cmap='gray')\n",
    "    axes[1].set_title('Mean gray value: {}'.format(round(gray_value, 2)))\n",
    "\n",
    "    # Saving the ploted image\n",
    "    plt.savefig(cropped_image_path)\n",
    "\n",
    "    # Closing the fig object to free up memory\n",
    "    plt.close(fig)"
   ]
  },
  {
   "cell_type": "code",
   "execution_count": null,
   "metadata": {},
   "outputs": [],
   "source": []
  }
 ],
 "metadata": {
  "kernelspec": {
   "display_name": "vasa-env-wt",
   "language": "python",
   "name": "python3"
  },
  "language_info": {
   "codemirror_mode": {
    "name": "ipython",
    "version": 3
   },
   "file_extension": ".py",
   "mimetype": "text/x-python",
   "name": "python",
   "nbconvert_exporter": "python",
   "pygments_lexer": "ipython3",
   "version": "3.9.13"
  },
  "orig_nbformat": 4
 },
 "nbformat": 4,
 "nbformat_minor": 2
}
