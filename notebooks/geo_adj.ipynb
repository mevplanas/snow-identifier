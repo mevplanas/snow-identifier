{
 "cells": [
  {
   "cell_type": "code",
   "execution_count": 1,
   "metadata": {},
   "outputs": [],
   "source": [
    "# Import packages\n",
    "import sys\n",
    "\n",
    "sys.path.append(\"../\")\n",
    "\n",
    "from db import models\n",
    "from pathlib import Path\n",
    "import os\n",
    "from run import get_meta, get_closest\n",
    "import cv2\n",
    "import matplotlib.pyplot as plt\n",
    "import exifread\n",
    "import math\n",
    "from math import radians, cos\n",
    "from shapely import wkt\n",
    "from PIL import Image\n",
    "import yaml\n",
    "from src.azure_blobs import download_image, get_blobs_by_folder_name\n",
    "from tqdm import tqdm\n",
    "from pyproj import Proj, transform\n",
    "import numpy as np\n",
    "import pickle \n",
    "\n",
    "IMAGE_FORMATS = (\".jpg\", \".jpeg\", \".png\", \".JPG\", \".JPEG\", \".PNG\")"
   ]
  },
  {
   "cell_type": "code",
   "execution_count": 2,
   "metadata": {},
   "outputs": [
    {
     "name": "stdout",
     "output_type": "stream",
     "text": [
      "(pyodbc.InterfaceError) ('IM002', '[IM002] [Microsoft][ODBC Driver Manager] Data source name not found and no default driver specified (0) (SQLDriverConnect)')\n",
      "(Background on this error at: https://sqlalche.me/e/20/rvf5)\n"
     ]
    }
   ],
   "source": [
    "# Load inspection points from MSS\n",
    "try:\n",
    "    points = models.InspectionPoints.get_all()\n",
    "except Exception as e:\n",
    "    print(e)"
   ]
  },
  {
   "cell_type": "code",
   "execution_count": 3,
   "metadata": {},
   "outputs": [],
   "source": [
    "# Reading the input points \n",
    "points = pickle.load(open(\"input_points/points.pkl\", \"rb\"))"
   ]
  },
  {
   "cell_type": "code",
   "execution_count": 4,
   "metadata": {},
   "outputs": [],
   "source": [
    "# Define current path\n",
    "current_path = Path().absolute()"
   ]
  },
  {
   "cell_type": "code",
   "execution_count": 5,
   "metadata": {},
   "outputs": [],
   "source": [
    "# Reading the configuration.yml file\n",
    "with open(os.path.join(current_path,'..', \"configuration.yml\"), \"r\") as f:\n",
    "    config = yaml.load(f, Loader=yaml.FullLoader)"
   ]
  },
  {
   "cell_type": "code",
   "execution_count": 6,
   "metadata": {},
   "outputs": [],
   "source": [
    "images_input_dir = os.path.join(current_path, \"input\")\n",
    "os.makedirs(images_input_dir, exist_ok=True)"
   ]
  },
  {
   "cell_type": "code",
   "execution_count": 20,
   "metadata": {},
   "outputs": [],
   "source": [
    "images_output_dir = os.path.join(current_path, \"output\")\n",
    "os.makedirs(images_output_dir, exist_ok=True)"
   ]
  },
  {
   "cell_type": "code",
   "execution_count": 8,
   "metadata": {},
   "outputs": [],
   "source": [
    "storage_folder_name = (\n",
    "    \"RnD/Gatvių valymas/2023-2024/20231130 Ateieties-Jaruzales-saligatviai/\"\n",
    ")"
   ]
  },
  {
   "cell_type": "code",
   "execution_count": 17,
   "metadata": {},
   "outputs": [
    {
     "name": "stderr",
     "output_type": "stream",
     "text": [
      "Getting current blobs: 33it [00:00, 34.51it/s]\n",
      "Downloading images from Azure Storage:: 100%|██████████| 33/33 [02:40<00:00,  4.85s/it]\n"
     ]
    }
   ],
   "source": [
    "storage_images = get_blobs_by_folder_name(\n",
    "    config=config, name_starts_with=storage_folder_name\n",
    ")\n",
    "# Downloading images from Azure storage to local dir\n",
    "for img in tqdm(storage_images, desc=\"Downloading images from Azure Storage:\"):\n",
    "    download_image(blob_name=img, config=config, local_file_dir=images_input_dir)"
   ]
  },
  {
   "cell_type": "code",
   "execution_count": 9,
   "metadata": {},
   "outputs": [],
   "source": [
    "images = []\n",
    "for root, dirs, files in os.walk(images_input_dir):\n",
    "    for file in files:\n",
    "        # Infering whether the file ends with .jpg, .JPG, .jpeg, .png, .PNG\n",
    "        if file.endswith(IMAGE_FORMATS):\n",
    "            # Adding the full path to the file\n",
    "            file = os.path.join(root, file)\n",
    "            # Appending to the list of images to infer\n",
    "            images.append(file)"
   ]
  },
  {
   "cell_type": "code",
   "execution_count": 10,
   "metadata": {},
   "outputs": [],
   "source": [
    "# Extracting the function to extract the focal length\n",
    "def extract_focal_length(file_path):\n",
    "    # Open the image file for reading in binary mode\n",
    "    with open(file_path, \"rb\") as f:\n",
    "        # Read the EXIF data\n",
    "        tags = exifread.process_file(f)\n",
    "\n",
    "        # Check if GPSInfo tag is present\n",
    "        if \"EXIF FocalLength\" in tags:\n",
    "            # Extract latitude, longitude, and altitude\n",
    "            focal_length = tags[\"EXIF FocalLength\"].values[0]\n",
    "\n",
    "            return float(focal_length)\n",
    "        else:\n",
    "            print(\"Focal length not found in the metadata.\")\n",
    "            return None"
   ]
  },
  {
   "cell_type": "code",
   "execution_count": 11,
   "metadata": {},
   "outputs": [],
   "source": [
    "def extract_gps_coordinates(file_path):\n",
    "    # Open the image file for reading in binary mode\n",
    "    with open(file_path, \"rb\") as f:\n",
    "        # Read the EXIF data\n",
    "        tags = exifread.process_file(f)\n",
    "\n",
    "        # Check if GPSInfo tag is present\n",
    "        if (\n",
    "            \"GPS GPSLatitude\" in tags\n",
    "            and \"GPS GPSLongitude\" in tags\n",
    "            and \"GPS GPSAltitude\" in tags\n",
    "        ):\n",
    "            # Extract latitude, longitude, and altitude\n",
    "            latitude = tags[\"GPS GPSLatitude\"].values\n",
    "            longitude = tags[\"GPS GPSLongitude\"].values\n",
    "            altitude = tags[\"GPS GPSAltitude\"].values\n",
    "\n",
    "            # Convert coordinates to decimal format\n",
    "            latitude_decimal = latitude[0] + latitude[1] / 60 + latitude[2] / 3600\n",
    "            longitude_decimal = longitude[0] + longitude[1] / 60 + longitude[2] / 3600\n",
    "\n",
    "            return float(latitude_decimal), float(longitude_decimal), float(altitude[0])\n",
    "        else:\n",
    "            print(\"GPS information not found in the metadata.\")\n",
    "            return None"
   ]
  },
  {
   "cell_type": "code",
   "execution_count": 12,
   "metadata": {},
   "outputs": [],
   "source": [
    "# Defining the function that calculates the diff in pixels to meters\n",
    "# GSD - Ground Sampling Distance\n",
    "def calculate_gsd(\n",
    "    height_from_ground,\n",
    "    image_width,\n",
    "    image_height,\n",
    "    sensor_width,\n",
    "    sensor_height,\n",
    "    focal_length,\n",
    "):\n",
    "    \"\"\"\n",
    "    Function that calculates the GSD (Ground Sampling Distance) from pixels to meters\n",
    "\n",
    "    Args:\n",
    "        height_from_ground (float): Height from ground in meters\n",
    "        image_width (int): Image width in pixels\n",
    "        image_height (int): Image height in pixels\n",
    "        sensor_width (float): Sensor width in mm\n",
    "        sensor_height (float): Sensor height in mm\n",
    "        focal_length (float): Focal length in mm\n",
    "\n",
    "    Returns:\n",
    "        gsd_h (float): Horizontal GSD in meters\n",
    "        gsd_v (float): Vertical GSD in meters\n",
    "    \"\"\"\n",
    "    # Calculating the horizontal and vertical GSD\n",
    "    gsd_h = (height_from_ground * sensor_width) / (focal_length * image_width)\n",
    "    gsd_v = (height_from_ground * sensor_height) / (focal_length * image_height)\n",
    "    # Returning the average GSD\n",
    "    return gsd_h, gsd_v"
   ]
  },
  {
   "cell_type": "code",
   "execution_count": 13,
   "metadata": {},
   "outputs": [],
   "source": [
    "def haversine_distance(lat1, lon1, lat2, lon2):\n",
    "    R = 6371  # Earth radius in kilometers\n",
    "\n",
    "    # Convert degrees to radians\n",
    "    lat1_rad = math.radians(lat1)\n",
    "    lon1_rad = math.radians(lon1)\n",
    "    lat2_rad = math.radians(lat2)\n",
    "    lon2_rad = math.radians(lon2)\n",
    "\n",
    "    # Differences in coordinates\n",
    "    delta_lat = lat2_rad - lat1_rad\n",
    "    delta_lon = lon2_rad - lon1_rad\n",
    "\n",
    "    # Haversine formula\n",
    "    a = (\n",
    "        math.sin(delta_lat / 2) ** 2\n",
    "        + math.cos(lat1_rad) * math.cos(lat2_rad) * math.sin(delta_lon / 2) ** 2\n",
    "    )\n",
    "\n",
    "    c = 2 * math.atan2(math.sqrt(a), math.sqrt(1 - a))\n",
    "    distance = R * c\n",
    "\n",
    "    return distance\n",
    "\n",
    "\n",
    "def calculate_distances(point_A, point_B):\n",
    "    x_distance = haversine_distance(\n",
    "        (point_A[0] + point_B[0]) / 2,\n",
    "        point_A[1],\n",
    "        (point_A[0] + point_B[0]) / 2,\n",
    "        point_B[1],\n",
    "    )\n",
    "\n",
    "    y_distance = haversine_distance(\n",
    "        point_A[0],\n",
    "        (point_A[1] + point_B[1]) / 2,\n",
    "        point_B[0],\n",
    "        (point_A[1] + point_B[1]) / 2,\n",
    "    )\n",
    "\n",
    "    return x_distance, y_distance"
   ]
  },
  {
   "cell_type": "code",
   "execution_count": 14,
   "metadata": {},
   "outputs": [],
   "source": [
    "def flat_earth_coordinates_difference(lat1, lon1, lat2, lon2):\n",
    "    # Convert latitude and longitude from degrees to radians\n",
    "    lat1, lon1, lat2, lon2 = map(radians, [lat1, lon1, lat2, lon2])\n",
    "\n",
    "    # Calculate differences in coordinates\n",
    "    dlat = lat2 - lat1\n",
    "    dlon = lon2 - lon1\n",
    "\n",
    "    # Calculate horizontal (x) and vertical (y) differences\n",
    "    horizontal_difference = dlon * cos(lat1)\n",
    "    vertical_difference = dlat\n",
    "\n",
    "    # Assuming Earth's radius is 6371 km\n",
    "    earth_radius = 6371.0\n",
    "\n",
    "    # Convert differences to meters\n",
    "    horizontal_difference_meters = horizontal_difference * earth_radius * 1000\n",
    "    vertical_difference_meters = vertical_difference * earth_radius * 1000\n",
    "\n",
    "    return horizontal_difference_meters, vertical_difference_meters"
   ]
  },
  {
   "cell_type": "code",
   "execution_count": 15,
   "metadata": {},
   "outputs": [],
   "source": [
    "def lonlat_to_utm(lon, lat):\n",
    "    utm_projection = Proj(proj=\"utm\", zone=33, ellps=\"WGS84\", preserve_units=False)\n",
    "    return transform(Proj(init=\"epsg:4326\"), utm_projection, lon, lat)\n",
    "\n",
    "\n",
    "def calculate_pixel_difference(lon1, lat1, lon2, lat2, gsd_x, gsd_y):\n",
    "    x1, y1 = lonlat_to_utm(lon1, lat1)\n",
    "    x2, y2 = lonlat_to_utm(lon2, lat2)\n",
    "\n",
    "    distance_x = np.abs(x2 - x1)\n",
    "    distance_y = np.abs(y2 - y1)\n",
    "\n",
    "    pixel_diff_x = distance_x / gsd_x\n",
    "    pixel_diff_y = distance_y / gsd_y\n",
    "\n",
    "    return pixel_diff_x, pixel_diff_y"
   ]
  },
  {
   "cell_type": "code",
   "execution_count": 16,
   "metadata": {},
   "outputs": [],
   "source": [
    "# Define sensor width and sensor height\n",
    "sensor_width = 10.16\n",
    "sensor_height = 7.619999999999999"
   ]
  },
  {
   "cell_type": "code",
   "execution_count": 22,
   "metadata": {},
   "outputs": [
    {
     "name": "stderr",
     "output_type": "stream",
     "text": [
      "100%|██████████| 33/33 [00:36<00:00,  1.11s/it]\n"
     ]
    },
    {
     "ename": "",
     "evalue": "",
     "output_type": "error",
     "traceback": [
      "\u001b[1;31mThe Kernel crashed while executing code in the the current cell or a previous cell. Please review the code in the cell(s) to identify a possible cause of the failure. Click <a href='https://aka.ms/vscodeJupyterKernelCrash'>here</a> for more info. View Jupyter <a href='command:jupyter.viewOutput'>log</a> for further details."
     ]
    }
   ],
   "source": [
    "for _img in tqdm(images):\n",
    "    # Get image center coordinates\n",
    "    x, y = get_meta(_img)\n",
    "    # Get closest inspection point\n",
    "    closest_point = get_closest((x, y), points)\n",
    "    # Open image with OpenCV\n",
    "    img = Image.open(_img)\n",
    "    img = np.array(img)\n",
    "    img = img[:, :, ::-1].copy()\n",
    "    # Get image height and width\n",
    "    h, w = img.shape[0], img.shape[1]\n",
    "    # Get rectangle with 25 pixel offset\n",
    "    center_box = [w / 2 - 25, h / 2 - 25, w / 2 + 25, h / 2 + 25]\n",
    "    center_box = [int(x) for x in center_box]\n",
    "    #  Draw rectange on image center\n",
    "    img = cv2.rectangle(\n",
    "        img,\n",
    "        (center_box[0], center_box[1]),\n",
    "        (center_box[2], center_box[3]),\n",
    "        (255, 0, 0),\n",
    "        2,\n",
    "    )\n",
    "    # Get focal lenght from image metadata\n",
    "    focal_length = extract_focal_length(_img)\n",
    "    # Get image center coordinate and absoulute height\n",
    "    y, x, z = extract_gps_coordinates(_img)\n",
    "    # Load inspection point geometry\n",
    "    point = wkt.loads(closest_point[\"Shape\"])\n",
    "    # Get xmp metadata from image\n",
    "    xmp = Image.open(_img).getxmp()\n",
    "    # Get relative height\n",
    "    rel_alt = xmp[\"xmpmeta\"][\"RDF\"][\"Description\"][\"RelativeAltitude\"]\n",
    "    rel_alt = float(rel_alt)\n",
    "    # Calculate gsd values\n",
    "    gsd_h, gsd_v = calculate_gsd(\n",
    "        rel_alt, w, h, sensor_width, sensor_height, focal_length\n",
    "    )\n",
    "    horizontal_distance, vertical_distance = flat_earth_coordinates_difference(\n",
    "        y, x, point.y, point.x\n",
    "    )\n",
    "\n",
    "    # Convert meters to pixels\n",
    "    horizontal_pixels = horizontal_distance / gsd_v\n",
    "    vertical_pixels = vertical_distance / gsd_h\n",
    "\n",
    "    # Get rectangle with 25 pixel offset\n",
    "    addjusted_box = [\n",
    "        (w / 2 - 25) + vertical_pixels,\n",
    "        (h / 2 - 25) + horizontal_pixels,\n",
    "        (w / 2 + 25) + vertical_pixels,\n",
    "        (h / 2 + 25) + horizontal_pixels,\n",
    "    ]\n",
    "    addjusted_box = [int(x) for x in addjusted_box]\n",
    "\n",
    "    #  Draw rectange on image center\n",
    "    img = cv2.rectangle(\n",
    "        img,\n",
    "        (addjusted_box[0], addjusted_box[1]),\n",
    "        (addjusted_box[2], addjusted_box[3]),\n",
    "        (0, 0, 255),\n",
    "        2,\n",
    "    )\n",
    "\n",
    "    cv2.imwrite(os.path.join(images_output_dir, os.path.basename(_img)), img)"
   ]
  },
  {
   "cell_type": "code",
   "execution_count": 18,
   "metadata": {},
   "outputs": [
    {
     "data": {
      "text/plain": [
       "'c:\\\\Users\\\\Admin\\\\projects\\\\snow-identifier\\\\notebooks\\\\output\\\\DJI_0998-2023-11-30-11-25-18.jpg'"
      ]
     },
     "execution_count": 18,
     "metadata": {},
     "output_type": "execute_result"
    }
   ],
   "source": [
    "os.path.join(images_output_dir, os.path.basename(_img))"
   ]
  },
  {
   "cell_type": "code",
   "execution_count": null,
   "metadata": {},
   "outputs": [],
   "source": []
  }
 ],
 "metadata": {
  "kernelspec": {
   "display_name": "snow-env",
   "language": "python",
   "name": "python3"
  },
  "language_info": {
   "codemirror_mode": {
    "name": "ipython",
    "version": 3
   },
   "file_extension": ".py",
   "mimetype": "text/x-python",
   "name": "python",
   "nbconvert_exporter": "python",
   "pygments_lexer": "ipython3",
   "version": "3.9.13"
  }
 },
 "nbformat": 4,
 "nbformat_minor": 2
}
