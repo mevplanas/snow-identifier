{
 "cells": [
  {
   "cell_type": "code",
   "execution_count": null,
   "metadata": {},
   "outputs": [],
   "source": [
    "import cv2\n",
    "from PIL import Image\n",
    "import os\n",
    "import numpy as np\n",
    "from pathlib import Path\n",
    "import sys\n",
    "\n",
    "import yaml\n",
    "\n",
    "sys.path.append('..')\n",
    "\n",
    "# Creating a dictionary of colors\n",
    "COLOR_DICT = {\n",
    "    \"red\": (0, 0, 255),\n",
    "    \"green\": (0, 255, 0),\n",
    "    \"blue\": (255, 0, 0),\n",
    "    \"yellow\": (0, 255, 255),\n",
    "    \"magenta\": (255, 0, 255),\n",
    "    \"cyan\": (255, 255, 0),\n",
    "    \"white\": (255, 255, 255),\n",
    "    \"black\": (0, 0, 0),\n",
    "}"
   ]
  },
  {
   "cell_type": "code",
   "execution_count": null,
   "metadata": {},
   "outputs": [],
   "source": [
    "current_dir = Path().absolute()"
   ]
  },
  {
   "cell_type": "code",
   "execution_count": null,
   "metadata": {},
   "outputs": [],
   "source": [
    "# Reading the configuration.yml file\n",
    "with open(os.path.join(current_dir, '..' ,\"configuration.yml\"), \"r\") as f:\n",
    "    config = yaml.load(f, Loader=yaml.FullLoader)\n",
    "\n",
    "# Extracting the padding for the snow box\n",
    "box_padding = config[\"BBOX_PADDING\"]"
   ]
  },
  {
   "cell_type": "code",
   "execution_count": null,
   "metadata": {},
   "outputs": [],
   "source": [
    "# Defining the path to the image\n",
    "path_to_image = os.path.join(\"input\", \"DJI_0509-2023-12-04-09-40-30.jpg\")"
   ]
  },
  {
   "cell_type": "code",
   "execution_count": null,
   "metadata": {},
   "outputs": [],
   "source": [
    "output_path = os.path.join(current_dir, 'output')\n",
    "os.makedirs(output_path, exist_ok=True)"
   ]
  },
  {
   "cell_type": "code",
   "execution_count": null,
   "metadata": {},
   "outputs": [],
   "source": [
    "# Open image\n",
    "img = Image.open(path_to_image)"
   ]
  },
  {
   "cell_type": "code",
   "execution_count": null,
   "metadata": {},
   "outputs": [],
   "source": [
    "# Read image with OpenCV\n",
    "open_cv_image = np.array(img)\n",
    "\n",
    "# Converting to grayscale\n",
    "image = cv2.cvtColor(open_cv_image, cv2.COLOR_BGR2GRAY)"
   ]
  },
  {
   "cell_type": "code",
   "execution_count": null,
   "metadata": {},
   "outputs": [],
   "source": [
    "# Converting from 255 to 1\n",
    "image = image / 255\n",
    "\n",
    "# Getting box around the center point of the image\n",
    "image_height, image_width = image.shape\n",
    "\n",
    "# Getting the center point\n",
    "center_point = (image_width // 2, image_height // 2)\n",
    "\n",
    "# Getting the box coordinates\n",
    "x_min = center_point[0] - box_padding\n",
    "x_max = center_point[0] + box_padding\n",
    "y_min = center_point[1] - box_padding\n",
    "y_max = center_point[1] + box_padding"
   ]
  },
  {
   "cell_type": "code",
   "execution_count": null,
   "metadata": {},
   "outputs": [],
   "source": [
    "# Getting the box\n",
    "box = image[y_min:y_max, x_min:x_max]\n",
    "\n",
    "# Calculating the mean pixel value\n",
    "mean_pixel_value = box.mean()\n",
    "\n",
    "# Calculating top left and bottom right corners\n",
    "top_left = x_min, y_max\n",
    "bottom_right = x_max, y_min"
   ]
  },
  {
   "cell_type": "code",
   "execution_count": null,
   "metadata": {},
   "outputs": [],
   "source": [
    "# Converting the colored img to RGB\n",
    "colored_image = cv2.cvtColor(open_cv_image, cv2.COLOR_RGB2BGR)\n",
    "\n",
    "# Drawubg a rectangle on top\n",
    "colored_image = cv2.rectangle(\n",
    "    colored_image, top_left, bottom_right, color=COLOR_DICT.get(\"blue\"), thickness=2\n",
    ")"
   ]
  },
  {
   "cell_type": "code",
   "execution_count": null,
   "metadata": {},
   "outputs": [],
   "source": [
    "output_path_img = os.path.join(output_path, 'img.png')"
   ]
  },
  {
   "cell_type": "code",
   "execution_count": null,
   "metadata": {},
   "outputs": [],
   "source": [
    "# Saving colored image\n",
    "cv2.imwrite(output_path_img, colored_image)"
   ]
  }
 ],
 "metadata": {
  "kernelspec": {
   "display_name": "snow-env",
   "language": "python",
   "name": "python3"
  },
  "language_info": {
   "codemirror_mode": {
    "name": "ipython",
    "version": 3
   },
   "file_extension": ".py",
   "mimetype": "text/x-python",
   "name": "python",
   "nbconvert_exporter": "python",
   "pygments_lexer": "ipython3",
   "version": "3.9.13"
  }
 },
 "nbformat": 4,
 "nbformat_minor": 2
}
