{
 "cells": [
  {
   "cell_type": "code",
   "execution_count": null,
   "metadata": {},
   "outputs": [],
   "source": [
    "# Importing the segment everything model \n",
    "from segment_anything import SamAutomaticMaskGenerator, sam_model_registry\n",
    "MODEL_TYPE = \"vit_b\"\n",
    "\n",
    "sam = sam_model_registry[MODEL_TYPE](checkpoint=\"sam_vit_b_01ec64.pth\")\n",
    "mask_generator = SamAutomaticMaskGenerator(sam)\n"
   ]
  },
  {
   "cell_type": "code",
   "execution_count": null,
   "metadata": {},
   "outputs": [],
   "source": [
    "# Image wrangling \n",
    "import cv2\n",
    "\n",
    "# Ploting the image \n",
    "import matplotlib.pyplot as plt"
   ]
  },
  {
   "cell_type": "code",
   "execution_count": null,
   "metadata": {},
   "outputs": [],
   "source": [
    "# Defining the path to image \n",
    "image_path = \"input/DJI_0952-2023-11-30-11-10-42.jpg\"\n",
    "\n",
    "# Opening the image\n",
    "image = cv2.imread(image_path)\n",
    "\n",
    "# Saving the original w and h \n",
    "original_h, original_w = image.shape[:2]\n",
    "\n",
    "# Resizing the image\n",
    "image = cv2.resize(image, (512, 512))\n",
    "\n",
    "# Getting the masks\n",
    "masks = mask_generator.generate(image)"
   ]
  },
  {
   "cell_type": "code",
   "execution_count": null,
   "metadata": {},
   "outputs": [],
   "source": [
    "plt.imshow(image)"
   ]
  },
  {
   "cell_type": "code",
   "execution_count": null,
   "metadata": {},
   "outputs": [],
   "source": [
    "# Extracting the bboxes \n",
    "bboxes = [x[\"bbox\"] for x in masks]"
   ]
  },
  {
   "cell_type": "code",
   "execution_count": null,
   "metadata": {},
   "outputs": [],
   "source": [
    "# The format is xywh (top left point and the width and height)\n",
    "# We will convet it to normalized xyxy (the top left point and the bottom right point)\n",
    "for i in range(len(bboxes)):\n",
    "    # Saving the top left point coords\n",
    "    x = bboxes[i][0]\n",
    "    y = bboxes[i][1]\n",
    "\n",
    "    # Saving the width and height\n",
    "    width = bboxes[i][2]\n",
    "    height = bboxes[i][3]\n",
    "\n",
    "    # Converting to xyxy (top left point and bottom right point)\n",
    "    bboxes[i][0] = x\n",
    "    bboxes[i][1] = y \n",
    "    bboxes[i][2] = x + width\n",
    "    bboxes[i][3] = y + height\n",
    "\n",
    "    # Normalizing the bboxes\n",
    "    bboxes[i][0] /= 512\n",
    "    bboxes[i][1] /= 512\n",
    "    bboxes[i][2] /= 512\n",
    "    bboxes[i][3] /= 512"
   ]
  },
  {
   "cell_type": "code",
   "execution_count": null,
   "metadata": {},
   "outputs": [],
   "source": [
    "# Converting the bboxes to original size\n",
    "for i in range(len(bboxes)):\n",
    "    # Converting to xyxy (top left point and bottom right point)\n",
    "    bboxes[i][0] *= original_w\n",
    "    bboxes[i][1] *= original_h\n",
    "    bboxes[i][2] *= original_w\n",
    "    bboxes[i][3] *= original_h"
   ]
  },
  {
   "cell_type": "code",
   "execution_count": null,
   "metadata": {},
   "outputs": [],
   "source": [
    "# Reading the original image \n",
    "image = cv2.imread(image_path)\n",
    "\n",
    "# Drawing the bboxes\n",
    "for bbox in bboxes:\n",
    "    # Converting to int\n",
    "    bbox = [int(x) for x in bbox]\n",
    "\n",
    "    # Drawing the bbox\n",
    "    image = cv2.rectangle(image, (bbox[0], bbox[1]), (bbox[2], bbox[3]), (0, 255, 0), 2)"
   ]
  },
  {
   "cell_type": "code",
   "execution_count": null,
   "metadata": {},
   "outputs": [],
   "source": [
    "# Infering which bbox has the highest overlap with the center 50 x 50 pixels patch \n",
    "from shapely.geometry import Polygon\n",
    "\n",
    "# Saving the center point x and y\n",
    "center_x = int(original_w // 2)\n",
    "center_y = int(original_h // 2)\n",
    "\n",
    "# Saving the center patch\n",
    "# (top left x, top left y, bottom right x, bottom right y)\n",
    "center_patch = [center_x - 25, center_y - 25, center_x + 25, center_y + 25]\n",
    "\n",
    "# Converting to shapely polygon\n",
    "center_patch_poly = Polygon([(center_patch[0], center_patch[1]), (center_patch[2], center_patch[1]), (center_patch[2], center_patch[3]), (center_patch[0], center_patch[3])])\n",
    "\n",
    "# Saving the bboxes\n",
    "bboxes_poly = [Polygon([(x[0], x[1]), (x[2], x[1]), (x[2], x[3]), (x[0], x[3])]) for x in bboxes]\n",
    "\n",
    "# Saving the overlaps\n",
    "overlaps = [x.intersection(center_patch_poly).area for x in bboxes_poly]\n",
    "\n",
    "# Getting the index of the bbox with the highest overlap\n",
    "index = overlaps.index(max(overlaps))\n",
    "\n",
    "# Saving the bbox with the highest overlap\n",
    "bbox_highest = bboxes[index]\n",
    "\n",
    "# Converting to int\n",
    "bbox_highest = [int(x) for x in bbox_highest]"
   ]
  },
  {
   "cell_type": "code",
   "execution_count": null,
   "metadata": {},
   "outputs": [],
   "source": [
    "# Drawing a red bbox around the bbox with the highest overlap\n",
    "image = cv2.rectangle(image, (bbox_highest[0], bbox_highest[1]), (bbox_highest[2], bbox_highest[3]), (0, 0, 255), 2)\n",
    "\n",
    "# Adding the labels for the corner points of the bounding box \n",
    "image = cv2.putText(image, f\"({bbox_highest[0]}, {bbox_highest[1]})\", (bbox_highest[0], bbox_highest[1]), cv2.FONT_HERSHEY_SIMPLEX, 0.5, (0, 0, 255), 2)\n",
    "image = cv2.putText(image, f\"({bbox_highest[2]}, {bbox_highest[3]})\", (bbox_highest[2], bbox_highest[3]), cv2.FONT_HERSHEY_SIMPLEX, 0.5, (0, 0, 255), 2)\n",
    "\n",
    "# Adding the label for the point coordinate \n",
    "image = cv2.putText(image, f\"({center_x}, {center_y})\", (center_x, center_y), cv2.FONT_HERSHEY_SIMPLEX, 0.5, (0, 0, 255), 2)\n",
    "\n"
   ]
  },
  {
   "cell_type": "code",
   "execution_count": null,
   "metadata": {},
   "outputs": [],
   "source": [
    "# Drawing the center patch \n",
    "image = cv2.rectangle(image, (int(center_patch[0]), int(center_patch[1])), (int(center_patch[2]), int(center_patch[3])), (255, 0, 0), 2)\n",
    "\n",
    "# Adding the label of the center patch top left point and bottom right point\n",
    "image = cv2.putText(image, f\"({int(center_patch[0])}, {int(center_patch[1])})\", (center_patch[0], center_patch[1]), cv2.FONT_HERSHEY_SIMPLEX, 0.5, (255, 0, 0), 2)\n",
    "image = cv2.putText(image, f\"({int(center_patch[2])}, {int(center_patch[3])})\", (center_patch[2], center_patch[3]), cv2.FONT_HERSHEY_SIMPLEX, 0.5, (255, 0, 0), 2)"
   ]
  },
  {
   "cell_type": "code",
   "execution_count": null,
   "metadata": {},
   "outputs": [],
   "source": [
    "# Saving the image\n",
    "cv2.imwrite(\"output.jpg\", image)"
   ]
  },
  {
   "cell_type": "code",
   "execution_count": null,
   "metadata": {},
   "outputs": [],
   "source": [
    "# Calculating the total area of the highest overlapping bbox \n",
    "bbox_highest_poly = Polygon([(bbox_highest[0], bbox_highest[1]), (bbox_highest[2], bbox_highest[1]), (bbox_highest[2], bbox_highest[3]), (bbox_highest[0], bbox_highest[3])])\n",
    "print(bbox_highest_poly.area)\n",
    "\n",
    "# Printing the total area of the image\n",
    "print(original_w * original_h)\n",
    "\n",
    "print(f\"The percentage of the image covered by the bbox with the highest overlap is {bbox_highest_poly.area / (original_w * original_h) * 100}%\")"
   ]
  },
  {
   "cell_type": "code",
   "execution_count": null,
   "metadata": {},
   "outputs": [],
   "source": [
    "# Saving the center point x and y\n",
    "center_x = int(original_w // 2)\n",
    "center_y = int(original_h // 2)\n",
    "\n",
    "# Creating top left and bottom right points of the center patch\n",
    "center_patch = [center_x - 25, center_y - 25, center_x + 25, center_y + 25]"
   ]
  },
  {
   "cell_type": "code",
   "execution_count": null,
   "metadata": {},
   "outputs": [],
   "source": [
    "bbox_highest"
   ]
  },
  {
   "cell_type": "code",
   "execution_count": null,
   "metadata": {},
   "outputs": [],
   "source": [
    "center_patch"
   ]
  },
  {
   "cell_type": "code",
   "execution_count": null,
   "metadata": {},
   "outputs": [],
   "source": [
    "# If the area of the overalp is smaller than 1%, we will move the center patch to the nearest edge of the bbox with the highest overlap\n",
    "if bbox_highest_poly.area / (original_w * original_h) < 0.01:\n",
    "\n",
    "\n",
    "    # Calculating the distances to each of the edges;\n",
    "    # The first element is the distance to the left edge\n",
    "    # The second element is the distance to the right edge\n",
    "    # The third element is the distance to the top edge\n",
    "    # The fourth element is the distance to the bottom edge\n",
    "    distance_left = abs(center_patch[0] - bbox_highest[0])\n",
    "    distance_right = abs(center_patch[2] - bbox_highest[2])\n",
    "    distance_top = abs(center_patch[1] - bbox_highest[1])\n",
    "    distance_bottom = abs(center_patch[3] - bbox_highest[3])\n",
    "\n",
    "    # Infering which edge is the closest\n",
    "    distances = [distance_left, distance_right, distance_top, distance_bottom]\n",
    "\n",
    "    # Getting the index of the closest edge\n",
    "    index = distances.index(min(distances))\n",
    "\n",
    "    # Moving the center patch to the closest edge\n",
    "    if index == 0:\n",
    "        # Moving to the left edge\n",
    "        center_patch = [bbox_highest[0] - 25, center_y - 25, bbox_highest[0] + 25, center_y + 25]\n",
    "    elif index == 1:\n",
    "        # Moving to the right edge\n",
    "        center_patch = [bbox_highest[2] - 25, center_y - 25, bbox_highest[2] + 25, center_y + 25]\n",
    "    elif index == 2:\n",
    "        # Moving to the top edge\n",
    "        x1 = center_patch[0]\n",
    "        x2 = center_patch[2]\n",
    "\n",
    "        y1 = center_patch[1] - distance_top - abs(center_patch[1] - center_patch[3])\n",
    "        y2 = center_patch[3] - distance_top - abs(center_patch[1] - center_patch[3]) \n",
    "\n",
    "        # Upading the center patch\n",
    "        center_patch = [x1, y1, x2, y2]\n",
    "    elif index == 3:\n",
    "        # Moving to the bottom edge\n",
    "        center_patch = [center_x - 25, bbox_highest[1] - 25, center_x + 25, bbox_highest[1] + 25]\n",
    "\n",
    "    # Drawing the new center patch \n",
    "    image = cv2.rectangle(image, (center_patch[0], center_patch[1]), (center_patch[2], center_patch[3]), (255, 0, 0), 2)"
   ]
  },
  {
   "cell_type": "code",
   "execution_count": null,
   "metadata": {},
   "outputs": [],
   "source": [
    "# Saving the image \n",
    "cv2.imwrite(\"output.jpg\", image)"
   ]
  },
  {
   "cell_type": "code",
   "execution_count": null,
   "metadata": {},
   "outputs": [],
   "source": []
  }
 ],
 "metadata": {
  "kernelspec": {
   "display_name": "snow-env",
   "language": "python",
   "name": "python3"
  },
  "language_info": {
   "codemirror_mode": {
    "name": "ipython",
    "version": 3
   },
   "file_extension": ".py",
   "mimetype": "text/x-python",
   "name": "python",
   "nbconvert_exporter": "python",
   "pygments_lexer": "ipython3",
   "version": "3.9.13"
  }
 },
 "nbformat": 4,
 "nbformat_minor": 2
}
