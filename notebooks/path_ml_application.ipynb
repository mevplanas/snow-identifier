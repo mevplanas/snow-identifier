{
 "cells": [
  {
   "cell_type": "code",
   "execution_count": 2,
   "metadata": {},
   "outputs": [],
   "source": [
    "import sys\n",
    "\n",
    "sys.path.append(\"../\")\n",
    "# Ultralytics YOLO model\n",
    "\n",
    "from ultralytics import YOLO\n",
    "\n",
    "\n",
    "# Image reading\n",
    "\n",
    "import cv2\n",
    "\n",
    "\n",
    "# OS traversal\n",
    "import os\n",
    "\n",
    "# Ploting\n",
    "import matplotlib.pyplot as plt\n",
    "\n",
    "# Polygons\n",
    "\n",
    "from shapely.geometry import Polygon\n",
    "\n",
    "\n",
    "# Array math\n",
    "\n",
    "import numpy as np\n",
    "\n",
    "from pathlib import Path\n",
    "\n",
    "import yaml\n",
    "\n",
    "from src.azure_blobs import download_image, get_blobs_by_folder_name\n",
    "\n",
    "from tqdm import tqdm\n",
    "\n",
    "IMAGE_FORMATS = (\".jpg\", \".jpeg\", \".png\", \".JPG\", \".JPEG\", \".PNG\")"
   ]
  },
  {
   "cell_type": "code",
   "execution_count": 3,
   "metadata": {},
   "outputs": [],
   "source": [
    "# Defining the model to use \n",
    "path_to_model = os.path.join('..', 'runs', 'segment', 'train11', 'weights', 'last.pt') \n",
    "\n",
    "# Loading the model\n",
    "model = YOLO(path_to_model)"
   ]
  },
  {
   "cell_type": "code",
   "execution_count": null,
   "metadata": {},
   "outputs": [],
   "source": [
    "# Defining the path to the image \n",
    "path_to_image = os.path.join('input', 'DJI_0972-2023-11-30-11-21-12.jpg')\n",
    "\n",
    "# Reading the image\n",
    "img = cv2.imread(path_to_image)\n",
    "\n",
    "# Going to RGB \n",
    "img = cv2.cvtColor(img, cv2.COLOR_BGR2RGB)"
   ]
  },
  {
   "cell_type": "code",
   "execution_count": null,
   "metadata": {},
   "outputs": [],
   "source": [
    "# Ploting the original image\n",
    "plt.figure(figsize=(10, 10))\n",
    "plt.imshow(img)"
   ]
  },
  {
   "cell_type": "code",
   "execution_count": null,
   "metadata": {},
   "outputs": [],
   "source": [
    "# Applying the model \n",
    "results = model(path_to_image)\n",
    "\n",
    "# Extracting all the masks \n",
    "masks = results[0].masks.xy"
   ]
  },
  {
   "cell_type": "code",
   "execution_count": null,
   "metadata": {},
   "outputs": [],
   "source": [
    "# Iterating over the masks and drawing a polygon \n",
    "for mask in masks:\n",
    "    # Iterating over the mask and creating a polygon\n",
    "    polygon_points = mask\n",
    "    polygon_points = polygon_points.reshape((-1, 1, 2))\n",
    "\n",
    "    # Converting to int\n",
    "    polygon_points = polygon_points.astype(int)\n",
    "\n",
    "    cv2.polylines(img, [polygon_points], isClosed=True, color=(255, 100, 100), thickness=5)\n",
    "\n",
    "# Ploting the image with the polygons\n",
    "plt.figure(figsize=(10, 10))\n",
    "plt.imshow(img)"
   ]
  },
  {
   "cell_type": "code",
   "execution_count": 4,
   "metadata": {},
   "outputs": [],
   "source": [
    "def calculate_centroid(polygon):\n",
    "    \"\"\" Calculate the centroid of a polygon. \"\"\"\n",
    "    x_coords = [p[0] for p in polygon]\n",
    "    y_coords = [p[1] for p in polygon]\n",
    "    centroid_x = sum(x_coords) / len(polygon)\n",
    "    centroid_y = sum(y_coords) / len(polygon)\n",
    "    return (centroid_x, centroid_y)\n",
    "\n",
    "def calculate_distance(point1, point2):\n",
    "    \"\"\" Calculate Euclidean distance between two points. \"\"\"\n",
    "    return np.sqrt((point1[0] - point2[0])**2 + (point1[1] - point2[1])**2)\n"
   ]
  },
  {
   "cell_type": "code",
   "execution_count": null,
   "metadata": {},
   "outputs": [],
   "source": [
    "# Calculating the center point of the image \n",
    "center_point = (img.shape[1] / 2, img.shape[0] / 2)"
   ]
  },
  {
   "cell_type": "code",
   "execution_count": 17,
   "metadata": {},
   "outputs": [],
   "source": [
    "def get_closest_mask(center_point, masks):\n",
    "    # Calculating the centroids of the masks \n",
    "    centroids = []\n",
    "    for mask in masks:\n",
    "        centroid = calculate_centroid(mask)\n",
    "        centroids.append(centroid)\n",
    "\n",
    "    # Getting the closest mask\n",
    "    closest_mask = None\n",
    "    closest_distance = None\n",
    "    for mask, centroid in zip(masks, centroids):\n",
    "        distance = calculate_distance(center_point, centroid)\n",
    "        if closest_distance is None or distance < closest_distance:\n",
    "            closest_distance = distance\n",
    "            closest_mask = mask\n",
    "    closest_mask = closest_mask.reshape((-1, 1, 2))\n",
    "    closest_mask = closest_mask.astype(int)\n",
    "    return closest_mask\n"
   ]
  },
  {
   "cell_type": "code",
   "execution_count": 29,
   "metadata": {},
   "outputs": [],
   "source": [
    "def get_intersection_poly(closest_mask, center_point):\n",
    "    # Get width and height coordinates from image center\n",
    "    w, h = center_point\n",
    "\n",
    "    # Create bbox around image center\n",
    "    center_box = [w - 150, h - 150, w + 150, h + 150]\n",
    "    center_box = [int(x) for x in center_box]\n",
    "\n",
    "    # Convert bounding box into polygon\n",
    "    center_bbox_shape = Polygon(\n",
    "        [\n",
    "            (center_box[0], center_box[1]),\n",
    "            (center_box[2], center_box[1]),\n",
    "            (center_box[2], center_box[3]),\n",
    "            (center_box[0], center_box[3]),\n",
    "        ]\n",
    "    )\n",
    "\n",
    "    # Convert numpy array to list\n",
    "    closest_mask_list = closest_mask.tolist()\n",
    "    # Wrangling list for polygon coversion\n",
    "    line_struct = [x[0] for x in closest_mask_list]\n",
    "    # Create closest mask polygon\n",
    "    segment = Polygon(line_struct)\n",
    "\n",
    "    # Get intersected polygon boundries between bbox and closest mask polygons\n",
    "    intersection = segment.intersection(center_bbox_shape)\n",
    "\n",
    "    return intersection"
   ]
  },
  {
   "cell_type": "code",
   "execution_count": 27,
   "metadata": {},
   "outputs": [],
   "source": [
    "def get_poly_coords(intersection):\n",
    " # Get x, y coords from intersected polygon\n",
    "    x, y = intersection.exterior.coords.xy\n",
    "    # Create list of tuples with coordinates\n",
    "    coord_pairs = list(zip(x, y))\n",
    "    # Convert each tuple to list element\n",
    "    coord_pairs = [list([int(y) for y in x]) for x in coord_pairs]\n",
    "    # Convert list to numpy array\n",
    "    intersection_poly = np.array(coord_pairs)\n",
    "\n",
    "    return intersection_poly"
   ]
  },
  {
   "cell_type": "code",
   "execution_count": null,
   "metadata": {},
   "outputs": [],
   "source": [
    "# Calculating the centroids of the masks \n",
    "centroids = []\n",
    "for mask in masks:\n",
    "    centroid = calculate_centroid(mask)\n",
    "    centroids.append(centroid)\n",
    "\n",
    "# Getting the closest mask\n",
    "closest_mask = None\n",
    "closest_distance = None\n",
    "for mask, centroid in zip(masks, centroids):\n",
    "    distance = calculate_distance(center_point, centroid)\n",
    "    if closest_distance is None or distance < closest_distance:\n",
    "        closest_distance = distance\n",
    "        closest_mask = mask"
   ]
  },
  {
   "cell_type": "code",
   "execution_count": null,
   "metadata": {},
   "outputs": [],
   "source": [
    "# Drawing the closest centroid with a blue line\n",
    "closest_mask = closest_mask.reshape((-1, 1, 2))\n",
    "closest_mask = closest_mask.astype(int)\n",
    "cv2.polylines(img, [closest_mask], isClosed=True, color=(100, 100, 255), thickness=5)\n",
    "\n",
    "# Ploting the image with the polygons\n",
    "plt.figure(figsize=(10, 10))\n",
    "plt.imshow(img)"
   ]
  },
  {
   "cell_type": "code",
   "execution_count": null,
   "metadata": {},
   "outputs": [],
   "source": [
    "# Get width and height coordinates from image center\n",
    "w, h = center_point\n",
    "\n",
    "# Create bbox around image center\n",
    "center_box = [w - 150, h - 150, w + 150, h + 150]\n",
    "center_box = [int(x) for x in center_box]\n",
    "\n",
    "# Draw bbox on image\n",
    "img = cv2.rectangle(\n",
    "    img,\n",
    "    (center_box[0], center_box[1]),\n",
    "    (center_box[2], center_box[3]),\n",
    "    (255, 0, 0),\n",
    "    2,\n",
    ")\n",
    "\n",
    "# Ploting the image with the center bbox\n",
    "plt.figure(figsize=(10, 10))\n",
    "plt.imshow(img)"
   ]
  },
  {
   "cell_type": "code",
   "execution_count": null,
   "metadata": {},
   "outputs": [],
   "source": [
    "# Get width and height coordinates from image center\n",
    "w, h = center_point\n",
    "# Create bbox around image center\n",
    "center_box = [w - 150, h - 150, w + 150, h+ 150]\n",
    "center_box = [int(x) for x in center_box]"
   ]
  },
  {
   "cell_type": "code",
   "execution_count": null,
   "metadata": {},
   "outputs": [],
   "source": [
    "img = cv2.rectangle(\n",
    "    img,\n",
    "    (center_box[0], center_box[1]),\n",
    "    (center_box[2], center_box[3]),\n",
    "    (255, 0, 0),\n",
    "    2,\n",
    ")"
   ]
  },
  {
   "cell_type": "code",
   "execution_count": null,
   "metadata": {},
   "outputs": [],
   "source": [
    "# Convert bounding box into polygon\n",
    "center_bbox_shape = Polygon(\n",
    "    [\n",
    "        (center_box[0], center_box[1]),\n",
    "        (center_box[2], center_box[1]),\n",
    "        (center_box[2], center_box[3]),\n",
    "        (center_box[0], center_box[3]),\n",
    "    ]\n",
    ")"
   ]
  },
  {
   "cell_type": "code",
   "execution_count": null,
   "metadata": {},
   "outputs": [],
   "source": [
    "# Convert numpy array to list\n",
    "closest_mask_list = closest_mask.tolist()\n",
    "# Wrangling list for polygon coversion\n",
    "line_struct = [x[0] for x in closest_mask_list]\n",
    "# Create closest mask polygon\n",
    "segment = Polygon(line_struct)"
   ]
  },
  {
   "cell_type": "code",
   "execution_count": null,
   "metadata": {},
   "outputs": [],
   "source": [
    "# Get intersected polygon boundries between bbox and closest mask polygons\n",
    "intersection = segment.intersection(center_bbox_shape)"
   ]
  },
  {
   "cell_type": "code",
   "execution_count": null,
   "metadata": {},
   "outputs": [],
   "source": [
    "# Get x, y coords from intersected polygon\n",
    "x, y = intersection.exterior.coords.xy\n",
    "\n",
    "# Create list of tuples with coordinates\n",
    "coord_pairs = list(zip(x, y))\n",
    "\n",
    "# Convert each tuple to list element\n",
    "coord_pairs = [list([int(y) for y in x]) for x in coord_pairs]\n",
    "\n",
    "# Convert list to numpy array\n",
    "intersection_poly = np.array(coord_pairs)"
   ]
  },
  {
   "cell_type": "code",
   "execution_count": null,
   "metadata": {},
   "outputs": [],
   "source": [
    "# Draw poly on image\n",
    "cv2.polylines(\n",
    "    img, [intersection_poly], isClosed=False, color=(0, 255, 255), thickness=5\n",
    ")"
   ]
  },
  {
   "cell_type": "code",
   "execution_count": null,
   "metadata": {},
   "outputs": [],
   "source": [
    "# Ploting the image with the polygons\n",
    "plt.figure(figsize=(10, 10))\n",
    "plt.imshow(img)"
   ]
  },
  {
   "cell_type": "code",
   "execution_count": null,
   "metadata": {},
   "outputs": [],
   "source": [
    "# Converting the image to grayscale\n",
    "img_gray = cv2.cvtColor(img, cv2.COLOR_RGB2GRAY)\n",
    "\n",
    "# Create a mask\n",
    "mask = np.zeros(img.shape[:2], dtype=np.uint8)\n",
    "\n",
    "# Set mean value to 1 if no intersection between center bbox\n",
    "# and closest mask was found\n",
    "if intersection.area == 0:\n",
    "    mean_val = 1\n",
    "else:\n",
    "    # Fill the polygon on the mask\n",
    "    cv2.fillPoly(mask, [intersection_poly], 255)\n",
    "\n",
    "    # Apply the mask to the image\n",
    "    masked_image = cv2.bitwise_and(img_gray, img_gray, mask=mask)\n",
    "\n",
    "    # Calculate the mean pixel value\n",
    "    # Use mask to ignore zero pixels in the mean calculation\n",
    "\n",
    "    mean_val = cv2.mean(masked_image, mask=mask)\n",
    "\n",
    "    # Limiting the mean value to 0 - 1\n",
    "    mean_val = np.clip(mean_val[0] / 255, 0, 1)\n",
    "\n",
    "    # Rounding to 2 decimals\n",
    "    mean_val = round(mean_val, 2)\n",
    "\n",
    "# Ploting the image with the polygons\n",
    "plt.figure(figsize=(10, 10))\n",
    "plt.imshow(img)\n",
    "\n",
    "# Adding the mean value to the image\n",
    "plt.title(f\"Mean value: {mean_val}\", fontsize=15, color=\"red\")"
   ]
  },
  {
   "cell_type": "code",
   "execution_count": 19,
   "metadata": {},
   "outputs": [],
   "source": [
    "# Define current path\n",
    "current_path = Path().absolute()"
   ]
  },
  {
   "cell_type": "code",
   "execution_count": 20,
   "metadata": {},
   "outputs": [],
   "source": [
    "# Reading the configuration.yml file\n",
    "with open(os.path.join(current_path, \"..\", \"configuration.yml\"), \"r\") as f:\n",
    "    config = yaml.load(f, Loader=yaml.FullLoader)"
   ]
  },
  {
   "cell_type": "code",
   "execution_count": 21,
   "metadata": {},
   "outputs": [],
   "source": [
    "images_input_dir = os.path.join(current_path, \"input\")\n",
    "os.makedirs(images_input_dir, exist_ok=True)"
   ]
  },
  {
   "cell_type": "code",
   "execution_count": 22,
   "metadata": {},
   "outputs": [],
   "source": [
    "images_output_dir = os.path.join(current_path, \"output\")\n",
    "os.makedirs(images_output_dir, exist_ok=True)"
   ]
  },
  {
   "cell_type": "code",
   "execution_count": 23,
   "metadata": {},
   "outputs": [],
   "source": [
    "storage_folder_name = (\n",
    "    \"RnD/Gatvių valymas/2023-2024/20231130 Ateieties-Jaruzales-saligatviai/\"\n",
    ")"
   ]
  },
  {
   "cell_type": "code",
   "execution_count": 24,
   "metadata": {},
   "outputs": [
    {
     "name": "stderr",
     "output_type": "stream",
     "text": [
      "Getting current blobs: 33it [00:00, 50.12it/s]\n",
      "Downloading images from Azure Storage:: 100%|██████████| 33/33 [01:12<00:00,  2.18s/it]\n"
     ]
    }
   ],
   "source": [
    "storage_images = get_blobs_by_folder_name(\n",
    "    config=config, name_starts_with=storage_folder_name\n",
    ")\n",
    "# Downloading images from Azure storage to local dir\n",
    "for img in tqdm(storage_images, desc=\"Downloading images from Azure Storage:\"):\n",
    "    download_image(blob_name=img, config=config, local_file_dir=images_input_dir)"
   ]
  },
  {
   "cell_type": "code",
   "execution_count": 25,
   "metadata": {},
   "outputs": [],
   "source": [
    "images = []\n",
    "for root, dirs, files in os.walk(images_input_dir):\n",
    "    for file in files:\n",
    "        # Infering whether the file ends with .jpg, .JPG, .jpeg, .png, .PNG\n",
    "        if file.endswith(IMAGE_FORMATS):\n",
    "            # Adding the full path to the file\n",
    "            file = os.path.join(root, file)\n",
    "            # Appending to the list of images to infer\n",
    "            images.append(file)"
   ]
  },
  {
   "cell_type": "code",
   "execution_count": 33,
   "metadata": {},
   "outputs": [
    {
     "name": "stderr",
     "output_type": "stream",
     "text": [
      "  0%|          | 0/33 [00:00<?, ?it/s]"
     ]
    },
    {
     "name": "stdout",
     "output_type": "stream",
     "text": [
      "\n",
      "image 1/1 c:\\GIS\\Projektai\\snow-identifier\\notebooks\\input\\RnD\\Gatvių valymas\\2023-2024\\20231130 Ateieties-Jaruzales-saligatviai\\DJI_0001-2023-11-30-11-25-30.jpg: 480x640 5 sidewalks, 228.5ms\n",
      "Speed: 0.0ms preprocess, 228.5ms inference, 5.6ms postprocess per image at shape (1, 3, 480, 640)\n"
     ]
    },
    {
     "name": "stderr",
     "output_type": "stream",
     "text": [
      "  3%|▎         | 1/33 [00:02<01:07,  2.10s/it]"
     ]
    },
    {
     "name": "stdout",
     "output_type": "stream",
     "text": [
      "\n",
      "image 1/1 c:\\GIS\\Projektai\\snow-identifier\\notebooks\\input\\RnD\\Gatvių valymas\\2023-2024\\20231130 Ateieties-Jaruzales-saligatviai\\DJI_0003-2023-11-30-11-26-12.jpg: 480x640 3 sidewalks, 218.5ms\n",
      "Speed: 0.0ms preprocess, 218.5ms inference, 0.0ms postprocess per image at shape (1, 3, 480, 640)\n"
     ]
    },
    {
     "name": "stderr",
     "output_type": "stream",
     "text": [
      "  6%|▌         | 2/33 [00:04<01:03,  2.04s/it]"
     ]
    },
    {
     "name": "stdout",
     "output_type": "stream",
     "text": [
      "\n",
      "image 1/1 c:\\GIS\\Projektai\\snow-identifier\\notebooks\\input\\RnD\\Gatvių valymas\\2023-2024\\20231130 Ateieties-Jaruzales-saligatviai\\DJI_0005-2023-11-30-11-26-28.jpg: 480x640 5 sidewalks, 223.6ms\n",
      "Speed: 3.0ms preprocess, 223.6ms inference, 0.0ms postprocess per image at shape (1, 3, 480, 640)\n"
     ]
    },
    {
     "name": "stderr",
     "output_type": "stream",
     "text": [
      "  9%|▉         | 3/33 [00:06<01:02,  2.09s/it]"
     ]
    },
    {
     "name": "stdout",
     "output_type": "stream",
     "text": [
      "\n",
      "image 1/1 c:\\GIS\\Projektai\\snow-identifier\\notebooks\\input\\RnD\\Gatvių valymas\\2023-2024\\20231130 Ateieties-Jaruzales-saligatviai\\DJI_0940-2023-11-30-11-08-34.jpg: 480x640 6 sidewalks, 230.5ms\n",
      "Speed: 3.0ms preprocess, 230.5ms inference, 8.0ms postprocess per image at shape (1, 3, 480, 640)\n"
     ]
    },
    {
     "name": "stderr",
     "output_type": "stream",
     "text": [
      " 12%|█▏        | 4/33 [00:08<01:00,  2.07s/it]"
     ]
    },
    {
     "name": "stdout",
     "output_type": "stream",
     "text": [
      "\n",
      "image 1/1 c:\\GIS\\Projektai\\snow-identifier\\notebooks\\input\\RnD\\Gatvių valymas\\2023-2024\\20231130 Ateieties-Jaruzales-saligatviai\\DJI_0942-2023-11-30-11-08-56.jpg: 480x640 5 sidewalks, 215.5ms\n",
      "Speed: 0.0ms preprocess, 215.5ms inference, 8.1ms postprocess per image at shape (1, 3, 480, 640)\n"
     ]
    },
    {
     "name": "stderr",
     "output_type": "stream",
     "text": [
      " 15%|█▌        | 5/33 [00:09<00:49,  1.75s/it]"
     ]
    },
    {
     "name": "stdout",
     "output_type": "stream",
     "text": [
      "'GeometryCollection' object has no attribute 'exterior'\n",
      "\n",
      "image 1/1 c:\\GIS\\Projektai\\snow-identifier\\notebooks\\input\\RnD\\Gatvių valymas\\2023-2024\\20231130 Ateieties-Jaruzales-saligatviai\\DJI_0944-2023-11-30-11-09-26.jpg: 480x640 7 sidewalks, 194.5ms\n",
      "Speed: 0.0ms preprocess, 194.5ms inference, 10.1ms postprocess per image at shape (1, 3, 480, 640)\n"
     ]
    },
    {
     "name": "stderr",
     "output_type": "stream",
     "text": [
      " 18%|█▊        | 6/33 [00:11<00:49,  1.85s/it]"
     ]
    },
    {
     "name": "stdout",
     "output_type": "stream",
     "text": [
      "\n",
      "image 1/1 c:\\GIS\\Projektai\\snow-identifier\\notebooks\\input\\RnD\\Gatvių valymas\\2023-2024\\20231130 Ateieties-Jaruzales-saligatviai\\DJI_0946-2023-11-30-11-09-44.jpg: 480x640 8 sidewalks, 221.6ms\n",
      "Speed: 0.0ms preprocess, 221.6ms inference, 12.2ms postprocess per image at shape (1, 3, 480, 640)\n"
     ]
    },
    {
     "name": "stderr",
     "output_type": "stream",
     "text": [
      " 21%|██        | 7/33 [00:12<00:43,  1.68s/it]"
     ]
    },
    {
     "name": "stdout",
     "output_type": "stream",
     "text": [
      "'GeometryCollection' object has no attribute 'exterior'\n",
      "\n",
      "image 1/1 c:\\GIS\\Projektai\\snow-identifier\\notebooks\\input\\RnD\\Gatvių valymas\\2023-2024\\20231130 Ateieties-Jaruzales-saligatviai\\DJI_0948-2023-11-30-11-10-04.jpg: 480x640 5 sidewalks, 215.3ms\n",
      "Speed: 2.9ms preprocess, 215.3ms inference, 7.0ms postprocess per image at shape (1, 3, 480, 640)\n"
     ]
    },
    {
     "name": "stderr",
     "output_type": "stream",
     "text": [
      " 24%|██▍       | 8/33 [00:14<00:45,  1.82s/it]"
     ]
    },
    {
     "name": "stdout",
     "output_type": "stream",
     "text": [
      "\n",
      "image 1/1 c:\\GIS\\Projektai\\snow-identifier\\notebooks\\input\\RnD\\Gatvių valymas\\2023-2024\\20231130 Ateieties-Jaruzales-saligatviai\\DJI_0950-2023-11-30-11-10-24.jpg: 480x640 4 sidewalks, 223.0ms\n",
      "Speed: 0.0ms preprocess, 223.0ms inference, 8.0ms postprocess per image at shape (1, 3, 480, 640)\n"
     ]
    },
    {
     "name": "stderr",
     "output_type": "stream",
     "text": [
      " 27%|██▋       | 9/33 [00:17<00:45,  1.89s/it]"
     ]
    },
    {
     "name": "stdout",
     "output_type": "stream",
     "text": [
      "\n",
      "image 1/1 c:\\GIS\\Projektai\\snow-identifier\\notebooks\\input\\RnD\\Gatvių valymas\\2023-2024\\20231130 Ateieties-Jaruzales-saligatviai\\DJI_0952-2023-11-30-11-10-42.jpg: 480x640 7 sidewalks, 228.1ms\n",
      "Speed: 4.0ms preprocess, 228.1ms inference, 9.0ms postprocess per image at shape (1, 3, 480, 640)\n"
     ]
    },
    {
     "name": "stderr",
     "output_type": "stream",
     "text": [
      " 30%|███       | 10/33 [00:19<00:45,  1.97s/it]"
     ]
    },
    {
     "name": "stdout",
     "output_type": "stream",
     "text": [
      "\n",
      "image 1/1 c:\\GIS\\Projektai\\snow-identifier\\notebooks\\input\\RnD\\Gatvių valymas\\2023-2024\\20231130 Ateieties-Jaruzales-saligatviai\\DJI_0954-2023-11-30-11-11-02.jpg: 480x640 4 sidewalks, 287.0ms\n",
      "Speed: 4.0ms preprocess, 287.0ms inference, 11.0ms postprocess per image at shape (1, 3, 480, 640)\n"
     ]
    },
    {
     "name": "stderr",
     "output_type": "stream",
     "text": [
      " 33%|███▎      | 11/33 [00:21<00:44,  2.03s/it]"
     ]
    },
    {
     "name": "stdout",
     "output_type": "stream",
     "text": [
      "\n",
      "image 1/1 c:\\GIS\\Projektai\\snow-identifier\\notebooks\\input\\RnD\\Gatvių valymas\\2023-2024\\20231130 Ateieties-Jaruzales-saligatviai\\DJI_0956-2023-11-30-11-11-14.jpg: 480x640 7 sidewalks, 179.0ms\n",
      "Speed: 3.0ms preprocess, 179.0ms inference, 10.7ms postprocess per image at shape (1, 3, 480, 640)\n"
     ]
    },
    {
     "name": "stderr",
     "output_type": "stream",
     "text": [
      " 36%|███▋      | 12/33 [00:23<00:42,  2.03s/it]"
     ]
    },
    {
     "name": "stdout",
     "output_type": "stream",
     "text": [
      "\n",
      "image 1/1 c:\\GIS\\Projektai\\snow-identifier\\notebooks\\input\\RnD\\Gatvių valymas\\2023-2024\\20231130 Ateieties-Jaruzales-saligatviai\\DJI_0958-2023-11-30-11-11-30.jpg: 480x640 6 sidewalks, 221.1ms\n",
      "Speed: 0.0ms preprocess, 221.1ms inference, 8.0ms postprocess per image at shape (1, 3, 480, 640)\n"
     ]
    },
    {
     "name": "stderr",
     "output_type": "stream",
     "text": [
      " 39%|███▉      | 13/33 [00:25<00:40,  2.01s/it]"
     ]
    },
    {
     "name": "stdout",
     "output_type": "stream",
     "text": [
      "\n",
      "image 1/1 c:\\GIS\\Projektai\\snow-identifier\\notebooks\\input\\RnD\\Gatvių valymas\\2023-2024\\20231130 Ateieties-Jaruzales-saligatviai\\DJI_0960-2023-11-30-11-11-44.jpg: 480x640 7 sidewalks, 285.7ms\n",
      "Speed: 16.9ms preprocess, 285.7ms inference, 10.0ms postprocess per image at shape (1, 3, 480, 640)\n"
     ]
    },
    {
     "name": "stderr",
     "output_type": "stream",
     "text": [
      " 42%|████▏     | 14/33 [00:27<00:39,  2.08s/it]"
     ]
    },
    {
     "name": "stdout",
     "output_type": "stream",
     "text": [
      "\n",
      "image 1/1 c:\\GIS\\Projektai\\snow-identifier\\notebooks\\input\\RnD\\Gatvių valymas\\2023-2024\\20231130 Ateieties-Jaruzales-saligatviai\\DJI_0962-2023-11-30-11-12-10.jpg: 480x640 5 sidewalks, 169.7ms\n",
      "Speed: 15.6ms preprocess, 169.7ms inference, 9.9ms postprocess per image at shape (1, 3, 480, 640)\n"
     ]
    },
    {
     "name": "stderr",
     "output_type": "stream",
     "text": [
      " 45%|████▌     | 15/33 [00:29<00:36,  2.05s/it]"
     ]
    },
    {
     "name": "stdout",
     "output_type": "stream",
     "text": [
      "\n",
      "image 1/1 c:\\GIS\\Projektai\\snow-identifier\\notebooks\\input\\RnD\\Gatvių valymas\\2023-2024\\20231130 Ateieties-Jaruzales-saligatviai\\DJI_0964-2023-11-30-11-12-22.jpg: 480x640 11 sidewalks, 214.0ms\n",
      "Speed: 2.9ms preprocess, 214.0ms inference, 12.0ms postprocess per image at shape (1, 3, 480, 640)\n"
     ]
    },
    {
     "name": "stderr",
     "output_type": "stream",
     "text": [
      " 48%|████▊     | 16/33 [00:31<00:34,  2.03s/it]"
     ]
    },
    {
     "name": "stdout",
     "output_type": "stream",
     "text": [
      "\n",
      "image 1/1 c:\\GIS\\Projektai\\snow-identifier\\notebooks\\input\\RnD\\Gatvių valymas\\2023-2024\\20231130 Ateieties-Jaruzales-saligatviai\\DJI_0966-2023-11-30-11-12-46.jpg: 480x640 4 sidewalks, 250.0ms\n",
      "Speed: 3.0ms preprocess, 250.0ms inference, 6.0ms postprocess per image at shape (1, 3, 480, 640)\n"
     ]
    },
    {
     "name": "stderr",
     "output_type": "stream",
     "text": [
      " 52%|█████▏    | 17/33 [00:33<00:32,  2.05s/it]"
     ]
    },
    {
     "name": "stdout",
     "output_type": "stream",
     "text": [
      "\n",
      "image 1/1 c:\\GIS\\Projektai\\snow-identifier\\notebooks\\input\\RnD\\Gatvių valymas\\2023-2024\\20231130 Ateieties-Jaruzales-saligatviai\\DJI_0968-2023-11-30-11-20-40.jpg: 480x640 5 sidewalks, 200.1ms\n",
      "Speed: 10.1ms preprocess, 200.1ms inference, 7.0ms postprocess per image at shape (1, 3, 480, 640)\n"
     ]
    },
    {
     "name": "stderr",
     "output_type": "stream",
     "text": [
      " 55%|█████▍    | 18/33 [00:35<00:30,  2.05s/it]"
     ]
    },
    {
     "name": "stdout",
     "output_type": "stream",
     "text": [
      "\n",
      "image 1/1 c:\\GIS\\Projektai\\snow-identifier\\notebooks\\input\\RnD\\Gatvių valymas\\2023-2024\\20231130 Ateieties-Jaruzales-saligatviai\\DJI_0970-2023-11-30-11-21-02.jpg: 480x640 5 sidewalks, 227.0ms\n",
      "Speed: 3.0ms preprocess, 227.0ms inference, 8.0ms postprocess per image at shape (1, 3, 480, 640)\n"
     ]
    },
    {
     "name": "stderr",
     "output_type": "stream",
     "text": [
      " 58%|█████▊    | 19/33 [00:37<00:28,  2.06s/it]"
     ]
    },
    {
     "name": "stdout",
     "output_type": "stream",
     "text": [
      "\n",
      "image 1/1 c:\\GIS\\Projektai\\snow-identifier\\notebooks\\input\\RnD\\Gatvių valymas\\2023-2024\\20231130 Ateieties-Jaruzales-saligatviai\\DJI_0972-2023-11-30-11-21-12.jpg: 480x640 5 sidewalks, 243.3ms\n",
      "Speed: 0.0ms preprocess, 243.3ms inference, 7.0ms postprocess per image at shape (1, 3, 480, 640)\n"
     ]
    },
    {
     "name": "stderr",
     "output_type": "stream",
     "text": [
      " 61%|██████    | 20/33 [00:39<00:27,  2.08s/it]"
     ]
    },
    {
     "name": "stdout",
     "output_type": "stream",
     "text": [
      "\n",
      "image 1/1 c:\\GIS\\Projektai\\snow-identifier\\notebooks\\input\\RnD\\Gatvių valymas\\2023-2024\\20231130 Ateieties-Jaruzales-saligatviai\\DJI_0974-2023-11-30-11-21-32.jpg: 480x640 4 sidewalks, 240.0ms\n",
      "Speed: 3.9ms preprocess, 240.0ms inference, 5.0ms postprocess per image at shape (1, 3, 480, 640)\n"
     ]
    },
    {
     "name": "stderr",
     "output_type": "stream",
     "text": [
      " 64%|██████▎   | 21/33 [00:42<00:25,  2.10s/it]"
     ]
    },
    {
     "name": "stdout",
     "output_type": "stream",
     "text": [
      "\n",
      "image 1/1 c:\\GIS\\Projektai\\snow-identifier\\notebooks\\input\\RnD\\Gatvių valymas\\2023-2024\\20231130 Ateieties-Jaruzales-saligatviai\\DJI_0976-2023-11-30-11-22-10.jpg: 480x640 3 sidewalks, 235.3ms\n",
      "Speed: 2.9ms preprocess, 235.3ms inference, 5.0ms postprocess per image at shape (1, 3, 480, 640)\n"
     ]
    },
    {
     "name": "stderr",
     "output_type": "stream",
     "text": [
      " 67%|██████▋   | 22/33 [00:44<00:23,  2.09s/it]"
     ]
    },
    {
     "name": "stdout",
     "output_type": "stream",
     "text": [
      "\n",
      "image 1/1 c:\\GIS\\Projektai\\snow-identifier\\notebooks\\input\\RnD\\Gatvių valymas\\2023-2024\\20231130 Ateieties-Jaruzales-saligatviai\\DJI_0978-2023-11-30-11-22-24.jpg: 480x640 2 sidewalks, 210.4ms\n",
      "Speed: 0.0ms preprocess, 210.4ms inference, 0.0ms postprocess per image at shape (1, 3, 480, 640)\n"
     ]
    },
    {
     "name": "stderr",
     "output_type": "stream",
     "text": [
      " 70%|██████▉   | 23/33 [00:46<00:20,  2.09s/it]"
     ]
    },
    {
     "name": "stdout",
     "output_type": "stream",
     "text": [
      "\n",
      "image 1/1 c:\\GIS\\Projektai\\snow-identifier\\notebooks\\input\\RnD\\Gatvių valymas\\2023-2024\\20231130 Ateieties-Jaruzales-saligatviai\\DJI_0980-2023-11-30-11-22-42.jpg: 480x640 4 sidewalks, 224.0ms\n",
      "Speed: 3.0ms preprocess, 224.0ms inference, 5.0ms postprocess per image at shape (1, 3, 480, 640)\n"
     ]
    },
    {
     "name": "stderr",
     "output_type": "stream",
     "text": [
      " 73%|███████▎  | 24/33 [00:48<00:18,  2.07s/it]"
     ]
    },
    {
     "name": "stdout",
     "output_type": "stream",
     "text": [
      "\n",
      "image 1/1 c:\\GIS\\Projektai\\snow-identifier\\notebooks\\input\\RnD\\Gatvių valymas\\2023-2024\\20231130 Ateieties-Jaruzales-saligatviai\\DJI_0982-2023-11-30-11-22-56.jpg: 480x640 7 sidewalks, 193.5ms\n",
      "Speed: 0.0ms preprocess, 193.5ms inference, 0.0ms postprocess per image at shape (1, 3, 480, 640)\n"
     ]
    },
    {
     "name": "stderr",
     "output_type": "stream",
     "text": [
      " 76%|███████▌  | 25/33 [00:50<00:16,  2.09s/it]"
     ]
    },
    {
     "name": "stdout",
     "output_type": "stream",
     "text": [
      "\n",
      "image 1/1 c:\\GIS\\Projektai\\snow-identifier\\notebooks\\input\\RnD\\Gatvių valymas\\2023-2024\\20231130 Ateieties-Jaruzales-saligatviai\\DJI_0984-2023-11-30-11-23-06.jpg: 480x640 5 sidewalks, 182.5ms\n",
      "Speed: 2.3ms preprocess, 182.5ms inference, 10.1ms postprocess per image at shape (1, 3, 480, 640)\n"
     ]
    },
    {
     "name": "stderr",
     "output_type": "stream",
     "text": [
      " 79%|███████▉  | 26/33 [00:52<00:14,  2.05s/it]"
     ]
    },
    {
     "name": "stdout",
     "output_type": "stream",
     "text": [
      "\n",
      "image 1/1 c:\\GIS\\Projektai\\snow-identifier\\notebooks\\input\\RnD\\Gatvių valymas\\2023-2024\\20231130 Ateieties-Jaruzales-saligatviai\\DJI_0986-2023-11-30-11-23-28.jpg: 480x640 4 sidewalks, 218.8ms\n",
      "Speed: 0.0ms preprocess, 218.8ms inference, 0.0ms postprocess per image at shape (1, 3, 480, 640)\n"
     ]
    },
    {
     "name": "stderr",
     "output_type": "stream",
     "text": [
      " 82%|████████▏ | 27/33 [00:54<00:12,  2.03s/it]"
     ]
    },
    {
     "name": "stdout",
     "output_type": "stream",
     "text": [
      "\n",
      "image 1/1 c:\\GIS\\Projektai\\snow-identifier\\notebooks\\input\\RnD\\Gatvių valymas\\2023-2024\\20231130 Ateieties-Jaruzales-saligatviai\\DJI_0988-2023-11-30-11-23-50.jpg: 480x640 6 sidewalks, 225.1ms\n",
      "Speed: 3.0ms preprocess, 225.1ms inference, 10.3ms postprocess per image at shape (1, 3, 480, 640)\n"
     ]
    },
    {
     "name": "stderr",
     "output_type": "stream",
     "text": [
      " 85%|████████▍ | 28/33 [00:56<00:10,  2.05s/it]"
     ]
    },
    {
     "name": "stdout",
     "output_type": "stream",
     "text": [
      "\n",
      "image 1/1 c:\\GIS\\Projektai\\snow-identifier\\notebooks\\input\\RnD\\Gatvių valymas\\2023-2024\\20231130 Ateieties-Jaruzales-saligatviai\\DJI_0990-2023-11-30-11-24-04.jpg: 480x640 4 sidewalks, 308.3ms\n",
      "Speed: 4.7ms preprocess, 308.3ms inference, 6.0ms postprocess per image at shape (1, 3, 480, 640)\n"
     ]
    },
    {
     "name": "stderr",
     "output_type": "stream",
     "text": [
      " 88%|████████▊ | 29/33 [00:58<00:08,  2.08s/it]"
     ]
    },
    {
     "name": "stdout",
     "output_type": "stream",
     "text": [
      "\n",
      "image 1/1 c:\\GIS\\Projektai\\snow-identifier\\notebooks\\input\\RnD\\Gatvių valymas\\2023-2024\\20231130 Ateieties-Jaruzales-saligatviai\\DJI_0992-2023-11-30-11-24-12.jpg: 480x640 3 sidewalks, 233.7ms\n",
      "Speed: 0.0ms preprocess, 233.7ms inference, 13.4ms postprocess per image at shape (1, 3, 480, 640)\n"
     ]
    },
    {
     "name": "stderr",
     "output_type": "stream",
     "text": [
      " 91%|█████████ | 30/33 [01:00<00:06,  2.12s/it]"
     ]
    },
    {
     "name": "stdout",
     "output_type": "stream",
     "text": [
      "\n",
      "image 1/1 c:\\GIS\\Projektai\\snow-identifier\\notebooks\\input\\RnD\\Gatvių valymas\\2023-2024\\20231130 Ateieties-Jaruzales-saligatviai\\DJI_0994-2023-11-30-11-24-40.jpg: 480x640 2 sidewalks, 233.0ms\n",
      "Speed: 3.0ms preprocess, 233.0ms inference, 6.0ms postprocess per image at shape (1, 3, 480, 640)\n"
     ]
    },
    {
     "name": "stderr",
     "output_type": "stream",
     "text": [
      " 94%|█████████▍| 31/33 [01:02<00:04,  2.12s/it]"
     ]
    },
    {
     "name": "stdout",
     "output_type": "stream",
     "text": [
      "\n",
      "image 1/1 c:\\GIS\\Projektai\\snow-identifier\\notebooks\\input\\RnD\\Gatvių valymas\\2023-2024\\20231130 Ateieties-Jaruzales-saligatviai\\DJI_0996-2023-11-30-11-25-04.jpg: 480x640 3 sidewalks, 232.3ms\n",
      "Speed: 12.7ms preprocess, 232.3ms inference, 0.0ms postprocess per image at shape (1, 3, 480, 640)\n"
     ]
    },
    {
     "name": "stderr",
     "output_type": "stream",
     "text": [
      " 97%|█████████▋| 32/33 [01:04<00:01,  1.90s/it]"
     ]
    },
    {
     "name": "stdout",
     "output_type": "stream",
     "text": [
      "'GeometryCollection' object has no attribute 'exterior'\n",
      "\n",
      "image 1/1 c:\\GIS\\Projektai\\snow-identifier\\notebooks\\input\\RnD\\Gatvių valymas\\2023-2024\\20231130 Ateieties-Jaruzales-saligatviai\\DJI_0998-2023-11-30-11-25-18.jpg: 480x640 5 sidewalks, 202.2ms\n",
      "Speed: 3.0ms preprocess, 202.2ms inference, 19.9ms postprocess per image at shape (1, 3, 480, 640)\n"
     ]
    },
    {
     "name": "stderr",
     "output_type": "stream",
     "text": [
      "100%|██████████| 33/33 [01:05<00:00,  1.99s/it]"
     ]
    },
    {
     "name": "stdout",
     "output_type": "stream",
     "text": [
      "'GeometryCollection' object has no attribute 'exterior'\n"
     ]
    },
    {
     "name": "stderr",
     "output_type": "stream",
     "text": [
      "\n"
     ]
    }
   ],
   "source": [
    "for _img in tqdm(images):\n",
    "    try:\n",
    "        # Reading the image\n",
    "        img = cv2.imread(_img)\n",
    "\n",
    "        # Going to RGB\n",
    "        img = cv2.cvtColor(img, cv2.COLOR_BGR2RGB)\n",
    "\n",
    "        # Applying the model\n",
    "        results = model(_img)\n",
    "\n",
    "        # Extracting all the masks\n",
    "        masks = results[0].masks.xy\n",
    "\n",
    "        # Calculating the center point of the image\n",
    "        center_point = (img.shape[1] / 2, img.shape[0] / 2)\n",
    "\n",
    "        # Getting closest mask\n",
    "        closest_mask = get_closest_mask(center_point=center_point, masks=masks)\n",
    "\n",
    "        # Get intersection polygon\n",
    "        poly = get_intersection_poly(\n",
    "            closest_mask=closest_mask, center_point=center_point\n",
    "        )\n",
    "\n",
    "        poly_coords = get_poly_coords(poly)\n",
    "\n",
    "        # Draw poly on image\n",
    "        cv2.polylines(\n",
    "            img, [poly_coords], isClosed=False, color=(0, 255, 255), thickness=5\n",
    "        )\n",
    "\n",
    "        # Converting the image to grayscale\n",
    "        img_gray = cv2.cvtColor(img, cv2.COLOR_RGB2GRAY)\n",
    "\n",
    "        # Create a mask\n",
    "        mask = np.zeros(img.shape[:2], dtype=np.uint8)\n",
    "\n",
    "        # Set mean value to 1 if no intersection between center bbox\n",
    "        # and closest mask was found\n",
    "        if poly.area == 0:\n",
    "            mean_val = 1\n",
    "        else:\n",
    "            # Fill the polygon on the mask\n",
    "            cv2.fillPoly(mask, [poly_coords], 255)\n",
    "\n",
    "            # Apply the mask to the image\n",
    "            masked_image = cv2.bitwise_and(img_gray, img_gray, mask=mask)\n",
    "\n",
    "            # Calculate the mean pixel value\n",
    "            # Use mask to ignore zero pixels in the mean calculation\n",
    "\n",
    "            mean_val = cv2.mean(masked_image, mask=mask)\n",
    "\n",
    "            # Limiting the mean value to 0 - 1\n",
    "            mean_val = np.clip(mean_val[0] / 255, 0, 1)\n",
    "\n",
    "            # Rounding to 2 decimals\n",
    "            mean_val = round(mean_val, 2)\n",
    "\n",
    "        # Write output\n",
    "        cv2.imwrite(\n",
    "            os.path.join(images_output_dir, f\"{mean_val}_{os.path.basename(_img)}\"), img)\n",
    "        \n",
    "\n",
    "    except Exception as e:\n",
    "        print(e)"
   ]
  },
  {
   "cell_type": "code",
   "execution_count": 32,
   "metadata": {},
   "outputs": [
    {
     "data": {
      "text/plain": [
       "1"
      ]
     },
     "execution_count": 32,
     "metadata": {},
     "output_type": "execute_result"
    }
   ],
   "source": [
    "mean_val"
   ]
  }
 ],
 "metadata": {
  "kernelspec": {
   "display_name": "snow-env",
   "language": "python",
   "name": "python3"
  },
  "language_info": {
   "codemirror_mode": {
    "name": "ipython",
    "version": 3
   },
   "file_extension": ".py",
   "mimetype": "text/x-python",
   "name": "python",
   "nbconvert_exporter": "python",
   "pygments_lexer": "ipython3",
   "version": "3.9.13"
  }
 },
 "nbformat": 4,
 "nbformat_minor": 2
}
