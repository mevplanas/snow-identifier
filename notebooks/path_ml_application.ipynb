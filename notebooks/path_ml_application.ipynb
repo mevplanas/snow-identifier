{
 "cells": [
  {
   "cell_type": "code",
   "execution_count": null,
   "metadata": {},
   "outputs": [],
   "source": [
    "# Ultralytics YOLO model\n",
    "from ultralytics import YOLO \n",
    "\n",
    "# Image reading \n",
    "import cv2\n",
    "\n",
    "# OS traversal \n",
    "import os \n",
    "\n",
    "# Ploting \n",
    "import matplotlib.pyplot as plt\n",
    "\n",
    "# Polygons \n",
    "from shapely.geometry import Polygon\n",
    "\n",
    "# Array math \n",
    "import numpy as np"
   ]
  },
  {
   "cell_type": "code",
   "execution_count": null,
   "metadata": {},
   "outputs": [],
   "source": [
    "# Defining the model to use \n",
    "path_to_model = os.path.join('..', 'runs', 'segment', 'train11', 'weights', 'last.pt') \n",
    "\n",
    "# Loading the model\n",
    "model = YOLO(path_to_model)"
   ]
  },
  {
   "cell_type": "code",
   "execution_count": null,
   "metadata": {},
   "outputs": [],
   "source": [
    "# Defining the path to the image \n",
    "path_to_image = os.path.join('input', 'DJI_0972-2023-11-30-11-21-12.jpg')\n",
    "\n",
    "# Reading the image\n",
    "img = cv2.imread(path_to_image)\n",
    "\n",
    "# Going to RGB \n",
    "img = cv2.cvtColor(img, cv2.COLOR_BGR2RGB)"
   ]
  },
  {
   "cell_type": "code",
   "execution_count": null,
   "metadata": {},
   "outputs": [],
   "source": [
    "# Ploting the original image\n",
    "plt.figure(figsize=(10, 10))\n",
    "plt.imshow(img)"
   ]
  },
  {
   "cell_type": "code",
   "execution_count": null,
   "metadata": {},
   "outputs": [],
   "source": [
    "# Applying the model \n",
    "results = model(path_to_image)\n",
    "\n",
    "# Extracting all the masks \n",
    "masks = results[0].masks.xy"
   ]
  },
  {
   "cell_type": "code",
   "execution_count": null,
   "metadata": {},
   "outputs": [],
   "source": [
    "# Iterating over the masks and drawing a polygon \n",
    "for mask in masks:\n",
    "    # Iterating over the mask and creating a polygon\n",
    "    polygon_points = mask\n",
    "    polygon_points = polygon_points.reshape((-1, 1, 2))\n",
    "\n",
    "    # Converting to int\n",
    "    polygon_points = polygon_points.astype(int)\n",
    "\n",
    "    cv2.polylines(img, [polygon_points], isClosed=True, color=(255, 100, 100), thickness=5)\n",
    "\n",
    "# Ploting the image with the polygons\n",
    "plt.figure(figsize=(10, 10))\n",
    "plt.imshow(img)"
   ]
  },
  {
   "cell_type": "code",
   "execution_count": null,
   "metadata": {},
   "outputs": [],
   "source": [
    "def calculate_centroid(polygon):\n",
    "    \"\"\" Calculate the centroid of a polygon. \"\"\"\n",
    "    x_coords = [p[0] for p in polygon]\n",
    "    y_coords = [p[1] for p in polygon]\n",
    "    centroid_x = sum(x_coords) / len(polygon)\n",
    "    centroid_y = sum(y_coords) / len(polygon)\n",
    "    return (centroid_x, centroid_y)\n",
    "\n",
    "def calculate_distance(point1, point2):\n",
    "    \"\"\" Calculate Euclidean distance between two points. \"\"\"\n",
    "    return np.sqrt((point1[0] - point2[0])**2 + (point1[1] - point2[1])**2)\n"
   ]
  },
  {
   "cell_type": "code",
   "execution_count": null,
   "metadata": {},
   "outputs": [],
   "source": [
    "# Calculating the center point of the image \n",
    "center_point = (img.shape[1] / 2, img.shape[0] / 2)"
   ]
  },
  {
   "cell_type": "code",
   "execution_count": null,
   "metadata": {},
   "outputs": [],
   "source": [
    "# Calculating the centroids of the masks \n",
    "centroids = []\n",
    "for mask in masks:\n",
    "    centroid = calculate_centroid(mask)\n",
    "    centroids.append(centroid)\n",
    "\n",
    "# Getting the closest mask\n",
    "closest_mask = None\n",
    "closest_distance = None\n",
    "for mask, centroid in zip(masks, centroids):\n",
    "    distance = calculate_distance(center_point, centroid)\n",
    "    if closest_distance is None or distance < closest_distance:\n",
    "        closest_distance = distance\n",
    "        closest_mask = mask"
   ]
  },
  {
   "cell_type": "code",
   "execution_count": null,
   "metadata": {},
   "outputs": [],
   "source": [
    "# Drawing the closest centroid with a blue line\n",
    "closest_mask = closest_mask.reshape((-1, 1, 2))\n",
    "closest_mask = closest_mask.astype(int)\n",
    "cv2.polylines(img, [closest_mask], isClosed=True, color=(100, 100, 255), thickness=5)\n",
    "\n",
    "# Ploting the image with the polygons\n",
    "plt.figure(figsize=(10, 10))\n",
    "plt.imshow(img)"
   ]
  },
  {
   "cell_type": "code",
   "execution_count": null,
   "metadata": {},
   "outputs": [],
   "source": [
    "# Converting the image to grayscale\n",
    "img_gray = cv2.cvtColor(img, cv2.COLOR_RGB2GRAY)\n",
    "\n",
    "# Create a mask\n",
    "mask = np.zeros(img.shape[:2], dtype=np.uint8)\n",
    "\n",
    "# Fill the polygon on the mask\n",
    "cv2.fillPoly(mask, [closest_mask], 255)\n",
    "\n",
    "# Apply the mask to the image\n",
    "masked_image = cv2.bitwise_and(img_gray, img_gray, mask=mask)\n",
    "\n",
    "# Calculate the mean pixel value\n",
    "# Use mask to ignore zero pixels in the mean calculation\n",
    "mean_val = cv2.mean(masked_image, mask=mask)\n",
    "\n",
    "# Limiting the mean value to 0 - 1 \n",
    "mean_val = np.clip(mean_val[0] / 255, 0, 1)\n",
    "\n",
    "# Rounding to 2 decimals \n",
    "mean_val = round(mean_val, 2)\n",
    "\n",
    "# Ploting the image with the polygons\n",
    "plt.figure(figsize=(10, 10))\n",
    "plt.imshow(img)\n",
    "\n",
    "# Adding the mean value to the image\n",
    "plt.title(f'Mean value: {mean_val}', fontsize=15, color='red')"
   ]
  },
  {
   "cell_type": "code",
   "execution_count": null,
   "metadata": {},
   "outputs": [],
   "source": []
  }
 ],
 "metadata": {
  "kernelspec": {
   "display_name": "snow-env",
   "language": "python",
   "name": "python3"
  },
  "language_info": {
   "codemirror_mode": {
    "name": "ipython",
    "version": 3
   },
   "file_extension": ".py",
   "mimetype": "text/x-python",
   "name": "python",
   "nbconvert_exporter": "python",
   "pygments_lexer": "ipython3",
   "version": "3.9.13"
  }
 },
 "nbformat": 4,
 "nbformat_minor": 2
}
