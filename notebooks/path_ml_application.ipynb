{
 "cells": [
  {
   "cell_type": "code",
   "execution_count": 16,
   "metadata": {},
   "outputs": [],
   "source": [
    "import sys\n",
    "\n",
    "sys.path.append(\"../\")\n",
    "\n",
    "# Ultralytics model\n",
    "from ultralytics import YOLO\n",
    "\n",
    "# Image reading\n",
    "import cv2\n",
    "\n",
    "# OS traversal\n",
    "import os\n",
    "\n",
    "# Ploting\n",
    "import matplotlib.pyplot as plt\n",
    "\n",
    "# Polygons\n",
    "from shapely.geometry import Polygon\n",
    "\n",
    "# Array math\n",
    "import numpy as np\n",
    "from pathlib import Path\n",
    "import yaml\n",
    "from src.azure_blobs import download_image, get_blobs_by_folder_name\n",
    "from tqdm import tqdm\n",
    "\n",
    "# Main funtion to infer and draw snow \n",
    "from src.image_processing import predict_snow\n",
    "\n",
    "# Data wrangling \n",
    "import pandas as pd\n",
    "\n",
    "IMAGE_FORMATS = (\".jpg\", \".jpeg\", \".png\", \".JPG\", \".JPEG\", \".PNG\")"
   ]
  },
  {
   "cell_type": "code",
   "execution_count": 17,
   "metadata": {},
   "outputs": [],
   "source": [
    "# Reading the configuraion.yml file \n",
    "with open(\"configuration.yml\", \"r\") as ymlfile:\n",
    "    cfg = yaml.load(ymlfile, Loader=yaml.FullLoader)\n",
    "\n",
    "path_to_model = cfg[\"path_to_model\"]\n",
    "treshold = cfg[\"treshold\"]\n",
    "padding = cfg[\"padding\"]\n",
    "\n",
    "# Loading the model\n",
    "model = YOLO(path_to_model)"
   ]
  },
  {
   "cell_type": "code",
   "execution_count": 18,
   "metadata": {},
   "outputs": [
    {
     "name": "stderr",
     "output_type": "stream",
     "text": [
      "100%|██████████| 63/63 [01:45<00:00,  1.67s/it]"
     ]
    },
    {
     "name": "stdout",
     "output_type": "stream",
     "text": [
      "Percentage of predictions found: 0.8412698412698413\n",
      "    threshold  count\n",
      "0         0.0     63\n",
      "1         0.1     63\n",
      "2         0.2     54\n",
      "3         0.3     23\n",
      "4         0.4     17\n",
      "5         0.5     15\n",
      "6         0.6     11\n",
      "7         0.7      2\n",
      "8         0.8      0\n",
      "9         0.9      0\n",
      "10        1.0      0\n"
     ]
    },
    {
     "name": "stderr",
     "output_type": "stream",
     "text": [
      "\n"
     ]
    }
   ],
   "source": [
    "# Defining the input and output dirs \n",
    "input_dir = os.path.join(\"input\")\n",
    "output_dir = os.path.join(\"output\") \n",
    "\n",
    "# Creating the output dir if it does not exist\n",
    "os.makedirs(output_dir, exist_ok=True)\n",
    "\n",
    "# Listing all the images in the input_dir \n",
    "images = [f for f in os.listdir(input_dir) if f.endswith(IMAGE_FORMATS)]\n",
    "\n",
    "# Creating full input paths \n",
    "image_paths = [os.path.join(input_dir, image) for image in images]\n",
    "\n",
    "# Placeholder for predictions \n",
    "predictions = []\n",
    "\n",
    "# Iterating over the images and predicting \n",
    "for image_path in tqdm(image_paths):\n",
    "    # Creating the output name \n",
    "    image_name = os.path.basename(image_path)\n",
    "    image_output_path = os.path.join(output_dir, image_name)\n",
    "\n",
    "    # Predicting the snow\n",
    "    mean_val, intersection_found = predict_snow(image_path, image_output_path, model, treshold, padding)\n",
    "\n",
    "    # Creating a predictions entry \n",
    "    predictions.append({\"image_name\": image_name, \"mean_val\": mean_val, \"intersection_found\": intersection_found})\n",
    "\n",
    "# Creating the dataframe \n",
    "predictions_df = pd.DataFrame(predictions)\n",
    "\n",
    "# Printing the percentage of predictions found \n",
    "print(f\"Percentage of predictions found: {predictions_df['intersection_found'].mean()}\")\n",
    "\n",
    "# Creating a suquence of 0, 0.1, 0.2, ..., 1 and \n",
    "# infering how many images are above the threshold\n",
    "# for each value in the sequence\n",
    "thresholds = np.arange(0, 1.1, 0.1)\n",
    "counts = []\n",
    "for threshold in thresholds:\n",
    "    counts.append((predictions_df[\"mean_val\"] > threshold).sum())\n",
    "\n",
    "# Creating a dataframe with the counts\n",
    "counts_df = pd.DataFrame({\"threshold\": thresholds, \"count\": counts})\n",
    "\n",
    "# Printing the counts\n",
    "print(counts_df)"
   ]
  },
  {
   "cell_type": "code",
   "execution_count": 21,
   "metadata": {},
   "outputs": [
    {
     "data": {
      "text/html": [
       "<div>\n",
       "<style scoped>\n",
       "    .dataframe tbody tr th:only-of-type {\n",
       "        vertical-align: middle;\n",
       "    }\n",
       "\n",
       "    .dataframe tbody tr th {\n",
       "        vertical-align: top;\n",
       "    }\n",
       "\n",
       "    .dataframe thead th {\n",
       "        text-align: right;\n",
       "    }\n",
       "</style>\n",
       "<table border=\"1\" class=\"dataframe\">\n",
       "  <thead>\n",
       "    <tr style=\"text-align: right;\">\n",
       "      <th></th>\n",
       "      <th>image_name</th>\n",
       "      <th>mean_val</th>\n",
       "      <th>intersection_found</th>\n",
       "    </tr>\n",
       "  </thead>\n",
       "  <tbody>\n",
       "    <tr>\n",
       "      <th>14</th>\n",
       "      <td>DJI_0030-2023-12-04-08-51-16.jpg</td>\n",
       "      <td>0.66</td>\n",
       "      <td>True</td>\n",
       "    </tr>\n",
       "    <tr>\n",
       "      <th>15</th>\n",
       "      <td>DJI_0032-2023-12-04-08-51-40.jpg</td>\n",
       "      <td>0.61</td>\n",
       "      <td>True</td>\n",
       "    </tr>\n",
       "  </tbody>\n",
       "</table>\n",
       "</div>"
      ],
      "text/plain": [
       "                          image_name  mean_val  intersection_found\n",
       "14  DJI_0030-2023-12-04-08-51-16.jpg      0.66                True\n",
       "15  DJI_0032-2023-12-04-08-51-40.jpg      0.61                True"
      ]
     },
     "execution_count": 21,
     "metadata": {},
     "output_type": "execute_result"
    }
   ],
   "source": [
    "predictions_df[(predictions_df['mean_val'] > 0.6) & (predictions_df['intersection_found'] == True)]"
   ]
  },
  {
   "cell_type": "code",
   "execution_count": null,
   "metadata": {},
   "outputs": [],
   "source": []
  }
 ],
 "metadata": {
  "kernelspec": {
   "display_name": "snow-env",
   "language": "python",
   "name": "python3"
  },
  "language_info": {
   "codemirror_mode": {
    "name": "ipython",
    "version": 3
   },
   "file_extension": ".py",
   "mimetype": "text/x-python",
   "name": "python",
   "nbconvert_exporter": "python",
   "pygments_lexer": "ipython3",
   "version": "3.9.13"
  }
 },
 "nbformat": 4,
 "nbformat_minor": 2
}
